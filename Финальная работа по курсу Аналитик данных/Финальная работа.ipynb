{
 "cells": [
  {
   "cell_type": "markdown",
   "id": "cf663d41",
   "metadata": {},
   "source": [
    "Подготовка к работе с данными                                                                                            \n"
   ]
  },
  {
   "cell_type": "markdown",
   "id": "c584c6f8",
   "metadata": {},
   "source": [
    "Импортируем необходимые библиотеки"
   ]
  },
  {
   "cell_type": "code",
   "execution_count": 1,
   "id": "dd647b4b",
   "metadata": {},
   "outputs": [],
   "source": [
    "import pandas as pd\n",
    "import numpy as np\n",
    "import matplotlib.pyplot as plt\n",
    "import seaborn as sb\n",
    "from scipy.stats import kurtosis\n",
    "from scipy.stats import skew\n",
    "from scipy import stats\n",
    "plt.rcParams[\"figure.figsize\"] = (10.0, 7.0)"
   ]
  },
  {
   "cell_type": "markdown",
   "id": "10b94a85",
   "metadata": {},
   "source": [
    "Для начала загружаем данные из таблиц:  Cheaters, Platforms,  ABgroup и формируем DataFrame"
   ]
  },
  {
   "cell_type": "code",
   "execution_count": 2,
   "id": "a1c07637",
   "metadata": {},
   "outputs": [],
   "source": [
    "cheaters_df = pd.read_csv('Cheaters.csv')\n",
    "platforms_df = pd.read_csv('Platforms.csv')\n",
    "abgroup_df = pd.read_csv('ABgroup.csv')\n",
    "money_df = pd.read_csv('Money.csv')\n",
    "cash_df = pd.read_csv('Cash.csv')"
   ]
  },
  {
   "cell_type": "markdown",
   "id": "1f0ea83b",
   "metadata": {},
   "source": [
    "Далее убедимся, что в датафреймах нет повторяющихся строк. Особенно это касается cheaters_df, platform_df и abgroup_df так как данные должны быть уникальны."
   ]
  },
  {
   "cell_type": "code",
   "execution_count": 3,
   "id": "c3db0375",
   "metadata": {},
   "outputs": [],
   "source": [
    "cheaters_unique = cheaters_df.drop_duplicates(subset=['user_id'])\n",
    "platforms_unique = platforms_df.drop_duplicates(subset=['user_id'])\n",
    "abgroup_unique = abgroup_df.drop_duplicates(subset=['user_id'])"
   ]
  },
  {
   "cell_type": "markdown",
   "id": "4aa4e14e",
   "metadata": {},
   "source": [
    "После удаления дубликатов мы можем посчитать количество известных нам читеров, их количество составило 353."
   ]
  },
  {
   "cell_type": "code",
   "execution_count": 4,
   "id": "a9cfa145",
   "metadata": {},
   "outputs": [
    {
     "name": "stdout",
     "output_type": "stream",
     "text": [
      "353\n"
     ]
    }
   ],
   "source": [
    "count_ch = cheaters_unique['cheaters'].sum()\n",
    "print(count_ch)"
   ]
  },
  {
   "cell_type": "markdown",
   "id": "58dd2306",
   "metadata": {},
   "source": [
    "Создадим датафрейм с известными читерами"
   ]
  },
  {
   "cell_type": "code",
   "execution_count": 5,
   "id": "a288da10",
   "metadata": {},
   "outputs": [
    {
     "data": {
      "text/plain": [
       "user_id     353\n",
       "cheaters    353\n",
       "dtype: int64"
      ]
     },
     "execution_count": 5,
     "metadata": {},
     "output_type": "execute_result"
    }
   ],
   "source": [
    "cheaters_true = cheaters_unique[cheaters_unique['cheaters'] == 1]\n",
    "cheaters_true.count()"
   ]
  },
  {
   "cell_type": "code",
   "execution_count": 6,
   "id": "fd7dc625",
   "metadata": {},
   "outputs": [],
   "source": [
    "\n",
    "df_1 = money_df.merge(cash_df, on=['user_id','date'])"
   ]
  },
  {
   "cell_type": "markdown",
   "id": "16822163",
   "metadata": {},
   "source": [
    "Теперь проверим суммы платежей (донатов) известных читеров и траты внутриигровой валюты"
   ]
  },
  {
   "cell_type": "code",
   "execution_count": 7,
   "id": "21626873",
   "metadata": {},
   "outputs": [
    {
     "data": {
      "text/html": [
       "<div>\n",
       "<style scoped>\n",
       "    .dataframe tbody tr th:only-of-type {\n",
       "        vertical-align: middle;\n",
       "    }\n",
       "\n",
       "    .dataframe tbody tr th {\n",
       "        vertical-align: top;\n",
       "    }\n",
       "\n",
       "    .dataframe thead th {\n",
       "        text-align: right;\n",
       "    }\n",
       "</style>\n",
       "<table border=\"1\" class=\"dataframe\">\n",
       "  <thead>\n",
       "    <tr style=\"text-align: right;\">\n",
       "      <th></th>\n",
       "      <th>money</th>\n",
       "      <th>cash</th>\n",
       "      <th>cheaters</th>\n",
       "    </tr>\n",
       "  </thead>\n",
       "  <tbody>\n",
       "    <tr>\n",
       "      <th>count</th>\n",
       "      <td>353.0</td>\n",
       "      <td>353.000000</td>\n",
       "      <td>353.0</td>\n",
       "    </tr>\n",
       "    <tr>\n",
       "      <th>mean</th>\n",
       "      <td>0.0</td>\n",
       "      <td>146807.932011</td>\n",
       "      <td>8.0</td>\n",
       "    </tr>\n",
       "    <tr>\n",
       "      <th>std</th>\n",
       "      <td>0.0</td>\n",
       "      <td>33800.925081</td>\n",
       "      <td>0.0</td>\n",
       "    </tr>\n",
       "    <tr>\n",
       "      <th>min</th>\n",
       "      <td>0.0</td>\n",
       "      <td>46700.000000</td>\n",
       "      <td>8.0</td>\n",
       "    </tr>\n",
       "    <tr>\n",
       "      <th>25%</th>\n",
       "      <td>0.0</td>\n",
       "      <td>125100.000000</td>\n",
       "      <td>8.0</td>\n",
       "    </tr>\n",
       "    <tr>\n",
       "      <th>50%</th>\n",
       "      <td>0.0</td>\n",
       "      <td>147200.000000</td>\n",
       "      <td>8.0</td>\n",
       "    </tr>\n",
       "    <tr>\n",
       "      <th>75%</th>\n",
       "      <td>0.0</td>\n",
       "      <td>169700.000000</td>\n",
       "      <td>8.0</td>\n",
       "    </tr>\n",
       "    <tr>\n",
       "      <th>max</th>\n",
       "      <td>0.0</td>\n",
       "      <td>253150.000000</td>\n",
       "      <td>8.0</td>\n",
       "    </tr>\n",
       "  </tbody>\n",
       "</table>\n",
       "</div>"
      ],
      "text/plain": [
       "       money           cash  cheaters\n",
       "count  353.0     353.000000     353.0\n",
       "mean     0.0  146807.932011       8.0\n",
       "std      0.0   33800.925081       0.0\n",
       "min      0.0   46700.000000       8.0\n",
       "25%      0.0  125100.000000       8.0\n",
       "50%      0.0  147200.000000       8.0\n",
       "75%      0.0  169700.000000       8.0\n",
       "max      0.0  253150.000000       8.0"
      ]
     },
     "execution_count": 7,
     "metadata": {},
     "output_type": "execute_result"
    }
   ],
   "source": [
    "cheaters_payments = df_1.merge(cheaters_true, on='user_id')\n",
    "cheaters_payments.groupby('user_id').agg('sum').describe()"
   ]
  },
  {
   "cell_type": "markdown",
   "id": "7e80912d",
   "metadata": {},
   "source": [
    "Можем заметить, что читеры вообще не производят платежей (донатов)"
   ]
  },
  {
   "cell_type": "markdown",
   "id": "f541a61a",
   "metadata": {},
   "source": [
    "Для сравнения проверим наличие платежей (донатов) у остальных игроков.\n",
    "\n"
   ]
  },
  {
   "cell_type": "code",
   "execution_count": 8,
   "id": "205b06a2",
   "metadata": {},
   "outputs": [],
   "source": [
    "players = cheaters_unique[cheaters_unique['cheaters'] == 0]\n",
    "players_payment = df_1.merge(players, on='user_id')\n"
   ]
  },
  {
   "cell_type": "code",
   "execution_count": 9,
   "id": "6ef02cac",
   "metadata": {},
   "outputs": [
    {
     "data": {
      "text/html": [
       "<div>\n",
       "<style scoped>\n",
       "    .dataframe tbody tr th:only-of-type {\n",
       "        vertical-align: middle;\n",
       "    }\n",
       "\n",
       "    .dataframe tbody tr th {\n",
       "        vertical-align: top;\n",
       "    }\n",
       "\n",
       "    .dataframe thead th {\n",
       "        text-align: right;\n",
       "    }\n",
       "</style>\n",
       "<table border=\"1\" class=\"dataframe\">\n",
       "  <thead>\n",
       "    <tr style=\"text-align: right;\">\n",
       "      <th></th>\n",
       "      <th>money</th>\n",
       "      <th>cash</th>\n",
       "      <th>cheaters</th>\n",
       "    </tr>\n",
       "  </thead>\n",
       "  <tbody>\n",
       "    <tr>\n",
       "      <th>count</th>\n",
       "      <td>8.637176e+06</td>\n",
       "      <td>8.637176e+06</td>\n",
       "      <td>8637176.0</td>\n",
       "    </tr>\n",
       "    <tr>\n",
       "      <th>mean</th>\n",
       "      <td>7.492327e-01</td>\n",
       "      <td>7.576511e+02</td>\n",
       "      <td>0.0</td>\n",
       "    </tr>\n",
       "    <tr>\n",
       "      <th>std</th>\n",
       "      <td>7.923057e-01</td>\n",
       "      <td>7.716610e+02</td>\n",
       "      <td>0.0</td>\n",
       "    </tr>\n",
       "    <tr>\n",
       "      <th>min</th>\n",
       "      <td>0.000000e+00</td>\n",
       "      <td>0.000000e+00</td>\n",
       "      <td>0.0</td>\n",
       "    </tr>\n",
       "    <tr>\n",
       "      <th>25%</th>\n",
       "      <td>0.000000e+00</td>\n",
       "      <td>2.500000e+02</td>\n",
       "      <td>0.0</td>\n",
       "    </tr>\n",
       "    <tr>\n",
       "      <th>50%</th>\n",
       "      <td>9.900000e-01</td>\n",
       "      <td>7.000000e+02</td>\n",
       "      <td>0.0</td>\n",
       "    </tr>\n",
       "    <tr>\n",
       "      <th>75%</th>\n",
       "      <td>9.900000e-01</td>\n",
       "      <td>1.150000e+03</td>\n",
       "      <td>0.0</td>\n",
       "    </tr>\n",
       "    <tr>\n",
       "      <th>max</th>\n",
       "      <td>9.990000e+00</td>\n",
       "      <td>1.377500e+05</td>\n",
       "      <td>0.0</td>\n",
       "    </tr>\n",
       "  </tbody>\n",
       "</table>\n",
       "</div>"
      ],
      "text/plain": [
       "              money          cash   cheaters\n",
       "count  8.637176e+06  8.637176e+06  8637176.0\n",
       "mean   7.492327e-01  7.576511e+02        0.0\n",
       "std    7.923057e-01  7.716610e+02        0.0\n",
       "min    0.000000e+00  0.000000e+00        0.0\n",
       "25%    0.000000e+00  2.500000e+02        0.0\n",
       "50%    9.900000e-01  7.000000e+02        0.0\n",
       "75%    9.900000e-01  1.150000e+03        0.0\n",
       "max    9.990000e+00  1.377500e+05        0.0"
      ]
     },
     "execution_count": 9,
     "metadata": {},
     "output_type": "execute_result"
    }
   ],
   "source": [
    "players_payment.describe()"
   ]
  },
  {
   "cell_type": "markdown",
   "id": "5fb17954",
   "metadata": {},
   "source": [
    "Сгруппируем данные по номеру игроков и получим суммарные траты за период акции "
   ]
  },
  {
   "cell_type": "code",
   "execution_count": 10,
   "id": "45a6a1e2",
   "metadata": {},
   "outputs": [
    {
     "data": {
      "text/html": [
       "<div>\n",
       "<style scoped>\n",
       "    .dataframe tbody tr th:only-of-type {\n",
       "        vertical-align: middle;\n",
       "    }\n",
       "\n",
       "    .dataframe tbody tr th {\n",
       "        vertical-align: top;\n",
       "    }\n",
       "\n",
       "    .dataframe thead th {\n",
       "        text-align: right;\n",
       "    }\n",
       "</style>\n",
       "<table border=\"1\" class=\"dataframe\">\n",
       "  <thead>\n",
       "    <tr style=\"text-align: right;\">\n",
       "      <th></th>\n",
       "      <th>cash</th>\n",
       "      <th>money</th>\n",
       "    </tr>\n",
       "  </thead>\n",
       "  <tbody>\n",
       "    <tr>\n",
       "      <th>count</th>\n",
       "      <td>1.079647e+06</td>\n",
       "      <td>1.079647e+06</td>\n",
       "    </tr>\n",
       "    <tr>\n",
       "      <th>mean</th>\n",
       "      <td>6.061209e+03</td>\n",
       "      <td>5.993862e+00</td>\n",
       "    </tr>\n",
       "    <tr>\n",
       "      <th>std</th>\n",
       "      <td>3.004201e+03</td>\n",
       "      <td>1.902327e+00</td>\n",
       "    </tr>\n",
       "    <tr>\n",
       "      <th>min</th>\n",
       "      <td>5.000000e+01</td>\n",
       "      <td>0.000000e+00</td>\n",
       "    </tr>\n",
       "    <tr>\n",
       "      <th>25%</th>\n",
       "      <td>5.050000e+03</td>\n",
       "      <td>4.950000e+00</td>\n",
       "    </tr>\n",
       "    <tr>\n",
       "      <th>50%</th>\n",
       "      <td>6.000000e+03</td>\n",
       "      <td>5.950000e+00</td>\n",
       "    </tr>\n",
       "    <tr>\n",
       "      <th>75%</th>\n",
       "      <td>6.950000e+03</td>\n",
       "      <td>6.950000e+00</td>\n",
       "    </tr>\n",
       "    <tr>\n",
       "      <th>max</th>\n",
       "      <td>2.409500e+05</td>\n",
       "      <td>1.693000e+01</td>\n",
       "    </tr>\n",
       "  </tbody>\n",
       "</table>\n",
       "</div>"
      ],
      "text/plain": [
       "               cash         money\n",
       "count  1.079647e+06  1.079647e+06\n",
       "mean   6.061209e+03  5.993862e+00\n",
       "std    3.004201e+03  1.902327e+00\n",
       "min    5.000000e+01  0.000000e+00\n",
       "25%    5.050000e+03  4.950000e+00\n",
       "50%    6.000000e+03  5.950000e+00\n",
       "75%    6.950000e+03  6.950000e+00\n",
       "max    2.409500e+05  1.693000e+01"
      ]
     },
     "execution_count": 10,
     "metadata": {},
     "output_type": "execute_result"
    }
   ],
   "source": [
    "players_payment.groupby('user_id').agg('sum')[['cash', 'money']].describe()"
   ]
  },
  {
   "cell_type": "markdown",
   "id": "79fdc698",
   "metadata": {},
   "source": [
    "Посмотрим медианы читеров и обычных игроков"
   ]
  },
  {
   "cell_type": "code",
   "execution_count": 11,
   "id": "666049bc",
   "metadata": {},
   "outputs": [
    {
     "name": "stdout",
     "output_type": "stream",
     "text": [
      "cash     147200.0\n",
      "money         0.0\n",
      "dtype: float64\n",
      "cash     6000.00\n",
      "money       5.95\n",
      "dtype: float64\n"
     ]
    }
   ],
   "source": [
    "print(cheaters_payments.groupby('user_id').agg('sum')[['cash', 'money']].median())\n",
    "print(players_payment.groupby('user_id').agg('sum')[['cash', 'money']].median())"
   ]
  },
  {
   "cell_type": "markdown",
   "id": "f7760baf",
   "metadata": {},
   "source": [
    "Заметим, что траты обычных игроков и читеров значительно отличаются. При этом читеры не покупают валюту."
   ]
  },
  {
   "cell_type": "markdown",
   "id": "32c6611e",
   "metadata": {},
   "source": [
    "Найдем тех, у кого большие траты внутриигровой валюты, но при этом ее не покупали"
   ]
  },
  {
   "cell_type": "code",
   "execution_count": 12,
   "id": "3ddf6acb",
   "metadata": {},
   "outputs": [],
   "source": [
    "player_level_95 = np.percentile(players_payment.groupby('user_id').agg('sum').cash, 95)"
   ]
  },
  {
   "cell_type": "code",
   "execution_count": 13,
   "id": "aa3c9255",
   "metadata": {},
   "outputs": [],
   "source": [
    "all_player = players_payment.groupby('user_id').agg('sum')"
   ]
  },
  {
   "cell_type": "code",
   "execution_count": 14,
   "id": "97819b65",
   "metadata": {},
   "outputs": [
    {
     "data": {
      "text/html": [
       "<div>\n",
       "<style scoped>\n",
       "    .dataframe tbody tr th:only-of-type {\n",
       "        vertical-align: middle;\n",
       "    }\n",
       "\n",
       "    .dataframe tbody tr th {\n",
       "        vertical-align: top;\n",
       "    }\n",
       "\n",
       "    .dataframe thead th {\n",
       "        text-align: right;\n",
       "    }\n",
       "</style>\n",
       "<table border=\"1\" class=\"dataframe\">\n",
       "  <thead>\n",
       "    <tr style=\"text-align: right;\">\n",
       "      <th></th>\n",
       "      <th>date</th>\n",
       "      <th>money</th>\n",
       "      <th>cash</th>\n",
       "      <th>cheaters</th>\n",
       "    </tr>\n",
       "    <tr>\n",
       "      <th>user_id</th>\n",
       "      <th></th>\n",
       "      <th></th>\n",
       "      <th></th>\n",
       "      <th></th>\n",
       "    </tr>\n",
       "  </thead>\n",
       "  <tbody>\n",
       "    <tr>\n",
       "      <th>027YD0-7N2S50</th>\n",
       "      <td>12.07.202116.07.202117.07.202115.07.202111.07....</td>\n",
       "      <td>0.0</td>\n",
       "      <td>203400</td>\n",
       "      <td>0</td>\n",
       "    </tr>\n",
       "    <tr>\n",
       "      <th>091QZN-XYWQ8D</th>\n",
       "      <td>12.07.202110.07.202117.07.202116.07.202111.07....</td>\n",
       "      <td>0.0</td>\n",
       "      <td>78500</td>\n",
       "      <td>0</td>\n",
       "    </tr>\n",
       "    <tr>\n",
       "      <th>0E95BB-LTAHXQ</th>\n",
       "      <td>17.07.202111.07.202116.07.202110.07.202114.07....</td>\n",
       "      <td>0.0</td>\n",
       "      <td>166000</td>\n",
       "      <td>0</td>\n",
       "    </tr>\n",
       "    <tr>\n",
       "      <th>0GCX0G-5BZ6HE</th>\n",
       "      <td>14.07.202111.07.202115.07.202116.07.202112.07....</td>\n",
       "      <td>0.0</td>\n",
       "      <td>122650</td>\n",
       "      <td>0</td>\n",
       "    </tr>\n",
       "    <tr>\n",
       "      <th>0GH23F-XS6VSB</th>\n",
       "      <td>11.07.202112.07.202117.07.202110.07.202116.07....</td>\n",
       "      <td>0.0</td>\n",
       "      <td>152150</td>\n",
       "      <td>0</td>\n",
       "    </tr>\n",
       "    <tr>\n",
       "      <th>...</th>\n",
       "      <td>...</td>\n",
       "      <td>...</td>\n",
       "      <td>...</td>\n",
       "      <td>...</td>\n",
       "    </tr>\n",
       "    <tr>\n",
       "      <th>ZQNX2R-TGBYZ0</th>\n",
       "      <td>13.07.202111.07.202117.07.202115.07.202110.07....</td>\n",
       "      <td>0.0</td>\n",
       "      <td>147200</td>\n",
       "      <td>0</td>\n",
       "    </tr>\n",
       "    <tr>\n",
       "      <th>ZRQNJL-5G1WXO</th>\n",
       "      <td>17.07.202115.07.202116.07.202110.07.202111.07....</td>\n",
       "      <td>0.0</td>\n",
       "      <td>97950</td>\n",
       "      <td>0</td>\n",
       "    </tr>\n",
       "    <tr>\n",
       "      <th>ZUEJJE-KN8O77</th>\n",
       "      <td>14.07.202116.07.202111.07.202115.07.202112.07....</td>\n",
       "      <td>0.0</td>\n",
       "      <td>121400</td>\n",
       "      <td>0</td>\n",
       "    </tr>\n",
       "    <tr>\n",
       "      <th>ZVKT51-78VHI9</th>\n",
       "      <td>16.07.202115.07.202117.07.202112.07.202110.07....</td>\n",
       "      <td>0.0</td>\n",
       "      <td>214500</td>\n",
       "      <td>0</td>\n",
       "    </tr>\n",
       "    <tr>\n",
       "      <th>ZWHACF-Z2J5IA</th>\n",
       "      <td>10.07.202115.07.202117.07.202113.07.202111.07....</td>\n",
       "      <td>0.0</td>\n",
       "      <td>111100</td>\n",
       "      <td>0</td>\n",
       "    </tr>\n",
       "  </tbody>\n",
       "</table>\n",
       "<p>344 rows × 4 columns</p>\n",
       "</div>"
      ],
      "text/plain": [
       "                                                            date  money  \\\n",
       "user_id                                                                   \n",
       "027YD0-7N2S50  12.07.202116.07.202117.07.202115.07.202111.07....    0.0   \n",
       "091QZN-XYWQ8D  12.07.202110.07.202117.07.202116.07.202111.07....    0.0   \n",
       "0E95BB-LTAHXQ  17.07.202111.07.202116.07.202110.07.202114.07....    0.0   \n",
       "0GCX0G-5BZ6HE  14.07.202111.07.202115.07.202116.07.202112.07....    0.0   \n",
       "0GH23F-XS6VSB  11.07.202112.07.202117.07.202110.07.202116.07....    0.0   \n",
       "...                                                          ...    ...   \n",
       "ZQNX2R-TGBYZ0  13.07.202111.07.202117.07.202115.07.202110.07....    0.0   \n",
       "ZRQNJL-5G1WXO  17.07.202115.07.202116.07.202110.07.202111.07....    0.0   \n",
       "ZUEJJE-KN8O77  14.07.202116.07.202111.07.202115.07.202112.07....    0.0   \n",
       "ZVKT51-78VHI9  16.07.202115.07.202117.07.202112.07.202110.07....    0.0   \n",
       "ZWHACF-Z2J5IA  10.07.202115.07.202117.07.202113.07.202111.07....    0.0   \n",
       "\n",
       "                 cash  cheaters  \n",
       "user_id                          \n",
       "027YD0-7N2S50  203400         0  \n",
       "091QZN-XYWQ8D   78500         0  \n",
       "0E95BB-LTAHXQ  166000         0  \n",
       "0GCX0G-5BZ6HE  122650         0  \n",
       "0GH23F-XS6VSB  152150         0  \n",
       "...               ...       ...  \n",
       "ZQNX2R-TGBYZ0  147200         0  \n",
       "ZRQNJL-5G1WXO   97950         0  \n",
       "ZUEJJE-KN8O77  121400         0  \n",
       "ZVKT51-78VHI9  214500         0  \n",
       "ZWHACF-Z2J5IA  111100         0  \n",
       "\n",
       "[344 rows x 4 columns]"
      ]
     },
     "execution_count": 14,
     "metadata": {},
     "output_type": "execute_result"
    }
   ],
   "source": [
    "suspicious_player = all_player[(all_player['cash'] > player_level_95) & (all_player['money'] == 0)]\n",
    "suspicious_player"
   ]
  },
  {
   "cell_type": "markdown",
   "id": "066f6fc4",
   "metadata": {},
   "source": [
    "Видим список игроков с подозрительно большими тратами,но при этом у них нет покупок валюты. Будем их также считать читерами"
   ]
  },
  {
   "cell_type": "code",
   "execution_count": 15,
   "id": "a24aa28f",
   "metadata": {},
   "outputs": [
    {
     "data": {
      "text/html": [
       "<div>\n",
       "<style scoped>\n",
       "    .dataframe tbody tr th:only-of-type {\n",
       "        vertical-align: middle;\n",
       "    }\n",
       "\n",
       "    .dataframe tbody tr th {\n",
       "        vertical-align: top;\n",
       "    }\n",
       "\n",
       "    .dataframe thead th {\n",
       "        text-align: right;\n",
       "    }\n",
       "</style>\n",
       "<table border=\"1\" class=\"dataframe\">\n",
       "  <thead>\n",
       "    <tr style=\"text-align: right;\">\n",
       "      <th></th>\n",
       "      <th>user_id</th>\n",
       "      <th>date</th>\n",
       "      <th>money</th>\n",
       "      <th>cash</th>\n",
       "      <th>cheaters</th>\n",
       "    </tr>\n",
       "  </thead>\n",
       "  <tbody>\n",
       "    <tr>\n",
       "      <th>0</th>\n",
       "      <td>027YD0-7N2S50</td>\n",
       "      <td>12.07.202116.07.202117.07.202115.07.202111.07....</td>\n",
       "      <td>0.0</td>\n",
       "      <td>203400</td>\n",
       "      <td>0</td>\n",
       "    </tr>\n",
       "    <tr>\n",
       "      <th>1</th>\n",
       "      <td>091QZN-XYWQ8D</td>\n",
       "      <td>12.07.202110.07.202117.07.202116.07.202111.07....</td>\n",
       "      <td>0.0</td>\n",
       "      <td>78500</td>\n",
       "      <td>0</td>\n",
       "    </tr>\n",
       "    <tr>\n",
       "      <th>2</th>\n",
       "      <td>0E95BB-LTAHXQ</td>\n",
       "      <td>17.07.202111.07.202116.07.202110.07.202114.07....</td>\n",
       "      <td>0.0</td>\n",
       "      <td>166000</td>\n",
       "      <td>0</td>\n",
       "    </tr>\n",
       "    <tr>\n",
       "      <th>3</th>\n",
       "      <td>0GCX0G-5BZ6HE</td>\n",
       "      <td>14.07.202111.07.202115.07.202116.07.202112.07....</td>\n",
       "      <td>0.0</td>\n",
       "      <td>122650</td>\n",
       "      <td>0</td>\n",
       "    </tr>\n",
       "    <tr>\n",
       "      <th>4</th>\n",
       "      <td>0GH23F-XS6VSB</td>\n",
       "      <td>11.07.202112.07.202117.07.202110.07.202116.07....</td>\n",
       "      <td>0.0</td>\n",
       "      <td>152150</td>\n",
       "      <td>0</td>\n",
       "    </tr>\n",
       "    <tr>\n",
       "      <th>...</th>\n",
       "      <td>...</td>\n",
       "      <td>...</td>\n",
       "      <td>...</td>\n",
       "      <td>...</td>\n",
       "      <td>...</td>\n",
       "    </tr>\n",
       "    <tr>\n",
       "      <th>339</th>\n",
       "      <td>ZQNX2R-TGBYZ0</td>\n",
       "      <td>13.07.202111.07.202117.07.202115.07.202110.07....</td>\n",
       "      <td>0.0</td>\n",
       "      <td>147200</td>\n",
       "      <td>0</td>\n",
       "    </tr>\n",
       "    <tr>\n",
       "      <th>340</th>\n",
       "      <td>ZRQNJL-5G1WXO</td>\n",
       "      <td>17.07.202115.07.202116.07.202110.07.202111.07....</td>\n",
       "      <td>0.0</td>\n",
       "      <td>97950</td>\n",
       "      <td>0</td>\n",
       "    </tr>\n",
       "    <tr>\n",
       "      <th>341</th>\n",
       "      <td>ZUEJJE-KN8O77</td>\n",
       "      <td>14.07.202116.07.202111.07.202115.07.202112.07....</td>\n",
       "      <td>0.0</td>\n",
       "      <td>121400</td>\n",
       "      <td>0</td>\n",
       "    </tr>\n",
       "    <tr>\n",
       "      <th>342</th>\n",
       "      <td>ZVKT51-78VHI9</td>\n",
       "      <td>16.07.202115.07.202117.07.202112.07.202110.07....</td>\n",
       "      <td>0.0</td>\n",
       "      <td>214500</td>\n",
       "      <td>0</td>\n",
       "    </tr>\n",
       "    <tr>\n",
       "      <th>343</th>\n",
       "      <td>ZWHACF-Z2J5IA</td>\n",
       "      <td>10.07.202115.07.202117.07.202113.07.202111.07....</td>\n",
       "      <td>0.0</td>\n",
       "      <td>111100</td>\n",
       "      <td>0</td>\n",
       "    </tr>\n",
       "  </tbody>\n",
       "</table>\n",
       "<p>344 rows × 5 columns</p>\n",
       "</div>"
      ],
      "text/plain": [
       "           user_id                                               date  money  \\\n",
       "0    027YD0-7N2S50  12.07.202116.07.202117.07.202115.07.202111.07....    0.0   \n",
       "1    091QZN-XYWQ8D  12.07.202110.07.202117.07.202116.07.202111.07....    0.0   \n",
       "2    0E95BB-LTAHXQ  17.07.202111.07.202116.07.202110.07.202114.07....    0.0   \n",
       "3    0GCX0G-5BZ6HE  14.07.202111.07.202115.07.202116.07.202112.07....    0.0   \n",
       "4    0GH23F-XS6VSB  11.07.202112.07.202117.07.202110.07.202116.07....    0.0   \n",
       "..             ...                                                ...    ...   \n",
       "339  ZQNX2R-TGBYZ0  13.07.202111.07.202117.07.202115.07.202110.07....    0.0   \n",
       "340  ZRQNJL-5G1WXO  17.07.202115.07.202116.07.202110.07.202111.07....    0.0   \n",
       "341  ZUEJJE-KN8O77  14.07.202116.07.202111.07.202115.07.202112.07....    0.0   \n",
       "342  ZVKT51-78VHI9  16.07.202115.07.202117.07.202112.07.202110.07....    0.0   \n",
       "343  ZWHACF-Z2J5IA  10.07.202115.07.202117.07.202113.07.202111.07....    0.0   \n",
       "\n",
       "       cash  cheaters  \n",
       "0    203400         0  \n",
       "1     78500         0  \n",
       "2    166000         0  \n",
       "3    122650         0  \n",
       "4    152150         0  \n",
       "..      ...       ...  \n",
       "339  147200         0  \n",
       "340   97950         0  \n",
       "341  121400         0  \n",
       "342  214500         0  \n",
       "343  111100         0  \n",
       "\n",
       "[344 rows x 5 columns]"
      ]
     },
     "execution_count": 15,
     "metadata": {},
     "output_type": "execute_result"
    }
   ],
   "source": [
    "suspicious_player.reset_index(inplace=True)\n",
    "suspicious_player"
   ]
  },
  {
   "cell_type": "markdown",
   "id": "859bd784",
   "metadata": {},
   "source": [
    "Теперь присвоим новым выявленным читерам значение 1 в столбце cheaters"
   ]
  },
  {
   "cell_type": "code",
   "execution_count": 16,
   "id": "b2f2b583",
   "metadata": {},
   "outputs": [],
   "source": [
    "cheaters_unique.loc[cheaters_unique['user_id'].isin(suspicious_player['user_id']), 'cheaters'] = 1"
   ]
  },
  {
   "cell_type": "markdown",
   "id": "5ac755c2",
   "metadata": {},
   "source": [
    "Перезапишим датафрейм player, в котором не будет читеров. Также добавим к нему разделение по группам"
   ]
  },
  {
   "cell_type": "code",
   "execution_count": 17,
   "id": "fba0a872",
   "metadata": {},
   "outputs": [],
   "source": [
    "players = cheaters_unique[cheaters_unique['cheaters'] == 0].merge(abgroup_unique, on = 'user_id')"
   ]
  },
  {
   "cell_type": "markdown",
   "id": "2da9dc91",
   "metadata": {},
   "source": [
    "Анализ полученных данных"
   ]
  },
  {
   "cell_type": "markdown",
   "id": "21ea503f",
   "metadata": {},
   "source": [
    "Разделим игроков на группы и сразу добавим их платежи и платформу"
   ]
  },
  {
   "cell_type": "code",
   "execution_count": 18,
   "id": "0a948a41",
   "metadata": {},
   "outputs": [],
   "source": [
    "test_group = players[players['group'] == 'test']\\\n",
    ".merge(money_df, on = ['user_id'])\n",
    "control_group = players[players['group'] == 'control']\\\n",
    ".merge(money_df, on = ['user_id'])"
   ]
  },
  {
   "cell_type": "markdown",
   "id": "29a908b6",
   "metadata": {},
   "source": [
    "Прежде чем считать метрики, взглянем на графики и проверим их симметричность и эксцесс. Для упрощения будем использовать функцию, которая находит средние, квартили, медиану, моду, стандартное отклонение, эксцесс, ассиметрию и рисует график. График будет показывать количество игроков (y) и сколько они суммарно задонатили за период теста по оси х"
   ]
  },
  {
   "cell_type": "code",
   "execution_count": 19,
   "id": "5db4911d",
   "metadata": {},
   "outputs": [],
   "source": [
    "def researh(df, column, color = 'blue', text = 'график распределения'):\n",
    "    print(\"Базовые метрики\")\n",
    "    print(df[column].describe())\n",
    "    print('Медиана - ', df[column].median())\n",
    "    print(\"------------------------------------\")\n",
    "    \n",
    "    print(\"Самые популярные значения метрики, топ 5\")\n",
    "    print(df[column].value_counts().nlargest(5))\n",
    "    print(\"------------------------------------\")\n",
    "    \n",
    "    print(\"Эксцесс \", kurtosis(df[column]))\n",
    "    print(\"Ассиметрия \", skew(df[column]))\n",
    "    \n",
    "    plot = sb.histplot(df[column], color = color, bins=15,  binwidth= 1);\n",
    "    plot.set_title(text)\n",
    "    plt.show()"
   ]
  },
  {
   "cell_type": "markdown",
   "id": "4c105f6d",
   "metadata": {},
   "source": [
    "Тестовая группа"
   ]
  },
  {
   "cell_type": "code",
   "execution_count": 20,
   "id": "19745776",
   "metadata": {},
   "outputs": [
    {
     "name": "stdout",
     "output_type": "stream",
     "text": [
      "Базовые метрики\n",
      "count    539312.000000\n",
      "mean          6.162276\n",
      "std           1.910851\n",
      "min           0.000000\n",
      "25%           4.950000\n",
      "50%           5.950000\n",
      "75%           6.960000\n",
      "max          16.930000\n",
      "Name: money, dtype: float64\n",
      "Медиана -  5.95\n",
      "------------------------------------\n",
      "Самые популярные значения метрики, топ 5\n",
      "money\n",
      "5.95    55860\n",
      "4.96    49457\n",
      "6.95    40198\n",
      "3.96    36292\n",
      "6.94    35217\n",
      "Name: count, dtype: int64\n",
      "------------------------------------\n",
      "Эксцесс  0.026747177605952466\n",
      "Ассиметрия  0.23717022914455232\n"
     ]
    },
    {
     "data": {
      "image/png": "[encoded data removed]",
      "text/plain": [
       "<Figure size 1000x700 with 1 Axes>"
      ]
     },
     "metadata": {},
     "output_type": "display_data"
    }
   ],
   "source": [
    "researh(test_group.groupby('user_id').agg('sum'), 'money')"
   ]
  },
  {
   "cell_type": "markdown",
   "id": "bc8ccbe9",
   "metadata": {},
   "source": [
    "Заметим, что есть ассимтерия, но в целом распределение похоже на нормальное."
   ]
  },
  {
   "cell_type": "markdown",
   "id": "02f7450e",
   "metadata": {},
   "source": [
    "Контрольная группа"
   ]
  },
  {
   "cell_type": "code",
   "execution_count": 21,
   "id": "16cf0e5a",
   "metadata": {},
   "outputs": [
    {
     "name": "stdout",
     "output_type": "stream",
     "text": [
      "Базовые метрики\n",
      "count    539991.000000\n",
      "mean          5.829478\n",
      "std           1.873622\n",
      "min           0.000000\n",
      "25%           4.950000\n",
      "50%           5.950000\n",
      "75%           6.950000\n",
      "max          15.930000\n",
      "Name: money, dtype: float64\n",
      "Медиана -  5.95\n",
      "------------------------------------\n",
      "Самые популярные значения метрики, топ 5\n",
      "money\n",
      "5.95    55576\n",
      "4.96    54557\n",
      "3.96    42771\n",
      "4.95    37251\n",
      "6.95    37051\n",
      "Name: count, dtype: int64\n",
      "------------------------------------\n",
      "Эксцесс  0.006912261917506601\n",
      "Ассиметрия  0.22888980004466286\n"
     ]
    },
    {
     "data": {
      "image/png": "[encoded data removed]",
      "text/plain": [
       "<Figure size 1000x700 with 1 Axes>"
      ]
     },
     "metadata": {},
     "output_type": "display_data"
    }
   ],
   "source": [
    "researh(control_group.groupby('user_id').agg('sum'), 'money')"
   ]
  },
  {
   "cell_type": "markdown",
   "id": "f2ccc75a",
   "metadata": {},
   "source": [
    "Можно сделать вывод, что практически все игроки сделали донат хотя бы 1 раз за период теста.\n",
    "Но посмотрим сколько было не платящих игроков\n"
   ]
  },
  {
   "cell_type": "code",
   "execution_count": 22,
   "id": "0604f844",
   "metadata": {},
   "outputs": [
    {
     "name": "stdout",
     "output_type": "stream",
     "text": [
      "76\n"
     ]
    }
   ],
   "source": [
    "print((test_group.groupby('user_id').agg('sum')['money'] == 0).sum())"
   ]
  },
  {
   "cell_type": "markdown",
   "id": "27979f6a",
   "metadata": {},
   "source": [
    "Всего 76 игроков не донатили за период теста"
   ]
  },
  {
   "cell_type": "markdown",
   "id": "16e1de19",
   "metadata": {},
   "source": [
    "Рассчитаем ARPU"
   ]
  },
  {
   "cell_type": "markdown",
   "id": "565f508a",
   "metadata": {},
   "source": [
    "Рассчитаем суммы платежей для каждой группы"
   ]
  },
  {
   "cell_type": "code",
   "execution_count": 23,
   "id": "b7c70383",
   "metadata": {},
   "outputs": [
    {
     "name": "stdout",
     "output_type": "stream",
     "text": [
      "Сумма платежей тестовой группы:  3323389.1799999946\n",
      "Сумма платежей контрольной группы:  3147865.7900000024\n"
     ]
    }
   ],
   "source": [
    "print('Сумма платежей тестовой группы: ', test_group_sum := test_group.money.sum())\n",
    "print('Сумма платежей контрольной группы: ', control_group_sum := control_group.money.sum())"
   ]
  },
  {
   "cell_type": "code",
   "execution_count": 24,
   "id": "a6481691",
   "metadata": {},
   "outputs": [
    {
     "name": "stdout",
     "output_type": "stream",
     "text": [
      "ARPU тестовой группы -  6.162275602990467 \n",
      " ARPU контрольной группы -  5.829478250563439\n"
     ]
    },
    {
     "name": "stderr",
     "output_type": "stream",
     "text": [
      "C:\\Users\\petru\\AppData\\Local\\Temp\\ipykernel_12796\\3014617449.py:1: FutureWarning: Series.__getitem__ treating keys as positions is deprecated. In a future version, integer keys will always be treated as labels (consistent with DataFrame behavior). To access a value by position, use `ser.iloc[pos]`\n",
      "  ARPU_test = test_group_sum / test_group.drop_duplicates('user_id').count()[0]\n",
      "C:\\Users\\petru\\AppData\\Local\\Temp\\ipykernel_12796\\3014617449.py:2: FutureWarning: Series.__getitem__ treating keys as positions is deprecated. In a future version, integer keys will always be treated as labels (consistent with DataFrame behavior). To access a value by position, use `ser.iloc[pos]`\n",
      "  ARPU_control = control_group_sum / control_group.drop_duplicates('user_id').count()[0]\n"
     ]
    }
   ],
   "source": [
    "ARPU_test = test_group_sum / test_group.drop_duplicates('user_id').count()[0]\n",
    "ARPU_control = control_group_sum / control_group.drop_duplicates('user_id').count()[0]\n",
    "print('ARPU тестовой группы - ', ARPU_test, '\\n', 'ARPU контрольной группы - ', ARPU_control)"
   ]
  },
  {
   "cell_type": "markdown",
   "id": "53ad3197",
   "metadata": {},
   "source": [
    "Также найдем их доверительные интервалы , возьмем доверительную вероятность 95%"
   ]
  },
  {
   "cell_type": "code",
   "execution_count": 25,
   "id": "38241bee",
   "metadata": {},
   "outputs": [],
   "source": [
    "def confidence(df, column, alpha = 0.95):\n",
    "    interval = stats.norm.interval(alpha, loc=df[column].mean(), scale=df[column].std())\n",
    "    return interval"
   ]
  },
  {
   "cell_type": "code",
   "execution_count": 26,
   "id": "c1eb6166",
   "metadata": {},
   "outputs": [
    {
     "name": "stdout",
     "output_type": "stream",
     "text": [
      "Доверительный интервал тестовой группы (np.float64(2.4170771425285396), np.float64(9.907474063452419))\n",
      "Доверительный интервал контрольной группы (np.float64(2.1572457079500182), np.float64(9.501710793176855))\n"
     ]
    }
   ],
   "source": [
    "test_confidence = confidence(test_group.groupby('user_id').agg('sum'), 'money')\n",
    "print('Доверительный интервал тестовой группы', test_confidence)\n",
    "control_confidence = confidence(control_group.groupby('user_id').agg('sum'), 'money')\n",
    "print('Доверительный интервал контрольной группы', control_confidence)\n"
   ]
  },
  {
   "cell_type": "markdown",
   "id": "c6840c48",
   "metadata": {},
   "source": [
    "Несмотря на то, что разница между группами существует, она невелика, причем доверительные интервалы практически полностью накладываются друг на друга. Это позволяет предположить, что полученный эффект скорее всего обусловлен случайностью."
   ]
  },
  {
   "cell_type": "code",
   "execution_count": 27,
   "id": "8ccb3a29",
   "metadata": {},
   "outputs": [
    {
     "name": "stdout",
     "output_type": "stream",
     "text": [
      "ARPU тестовой группы больше контрольной на 5.7 %\n"
     ]
    }
   ],
   "source": [
    "print('ARPU тестовой группы больше контрольной на', round((ARPU_test - ARPU_control) / ARPU_control * 100, 1),'%')"
   ]
  },
  {
   "cell_type": "markdown",
   "id": "121f5d01",
   "metadata": {},
   "source": [
    "Рассчитаем ARPPU "
   ]
  },
  {
   "cell_type": "markdown",
   "id": "e08085b6",
   "metadata": {},
   "source": [
    "Для этого сначала отделим платящих игроков"
   ]
  },
  {
   "cell_type": "code",
   "execution_count": 28,
   "id": "86c69e64",
   "metadata": {},
   "outputs": [],
   "source": [
    "df = test_group.groupby('user_id').agg('sum').reset_index()\n",
    "test_group_paying = df[df['money'] > 0]\n",
    "df = control_group.groupby('user_id').agg('sum').reset_index()\n",
    "control_group_paying = df[df['money'] > 0]"
   ]
  },
  {
   "cell_type": "code",
   "execution_count": 29,
   "id": "dd892913",
   "metadata": {},
   "outputs": [
    {
     "name": "stdout",
     "output_type": "stream",
     "text": [
      "Базовые метрики\n",
      "count    539236.000000\n",
      "mean          6.163144\n",
      "std           1.909584\n",
      "min           0.990000\n",
      "25%           4.950000\n",
      "50%           5.950000\n",
      "75%           6.960000\n",
      "max          16.930000\n",
      "Name: money, dtype: float64\n",
      "Медиана -  5.95\n",
      "------------------------------------\n",
      "Самые популярные значения метрики, топ 5\n",
      "money\n",
      "5.95    55860\n",
      "4.96    49457\n",
      "6.95    40198\n",
      "3.96    36292\n",
      "6.94    35217\n",
      "Name: count, dtype: int64\n",
      "------------------------------------\n",
      "Эксцесс  0.01948786963720961\n",
      "Ассиметрия  0.24104777717750522\n"
     ]
    },
    {
     "data": {
      "image/png": "[encoded data removed]",
      "text/plain": [
       "<Figure size 1000x700 with 1 Axes>"
      ]
     },
     "metadata": {},
     "output_type": "display_data"
    }
   ],
   "source": [
    "researh(test_group_paying, 'money')"
   ]
  },
  {
   "cell_type": "code",
   "execution_count": 30,
   "id": "cf185d12",
   "metadata": {},
   "outputs": [
    {
     "name": "stdout",
     "output_type": "stream",
     "text": [
      "Базовые метрики\n",
      "count    539840.000000\n",
      "mean          5.831109\n",
      "std           1.871346\n",
      "min           0.990000\n",
      "25%           4.950000\n",
      "50%           5.950000\n",
      "75%           6.950000\n",
      "max          15.930000\n",
      "Name: money, dtype: float64\n",
      "Медиана -  5.95\n",
      "------------------------------------\n",
      "Самые популярные значения метрики, топ 5\n",
      "money\n",
      "5.95    55576\n",
      "4.96    54557\n",
      "3.96    42771\n",
      "4.95    37251\n",
      "6.95    37051\n",
      "Name: count, dtype: int64\n",
      "------------------------------------\n",
      "Эксцесс  -0.004748696740484171\n",
      "Ассиметрия  0.23563197648757012\n"
     ]
    },
    {
     "data": {
      "image/png": "[encoded data removed]",
      "text/plain": [
       "<Figure size 1000x700 with 1 Axes>"
      ]
     },
     "metadata": {},
     "output_type": "display_data"
    }
   ],
   "source": [
    "researh(control_group_paying, 'money')"
   ]
  },
  {
   "cell_type": "code",
   "execution_count": 31,
   "id": "aa4a9974",
   "metadata": {},
   "outputs": [
    {
     "name": "stderr",
     "output_type": "stream",
     "text": [
      "C:\\Users\\petru\\AppData\\Local\\Temp\\ipykernel_12796\\4041125954.py:1: FutureWarning: Series.__getitem__ treating keys as positions is deprecated. In a future version, integer keys will always be treated as labels (consistent with DataFrame behavior). To access a value by position, use `ser.iloc[pos]`\n",
      "  ARPPU_test = test_group_sum / test_group_paying.drop_duplicates('user_id').count()[0]\n"
     ]
    },
    {
     "name": "stdout",
     "output_type": "stream",
     "text": [
      "ARPPU тестовой группы -  6.163144115007149 \n",
      " ARPPU контрольной группы -  5.831108828541795\n"
     ]
    },
    {
     "name": "stderr",
     "output_type": "stream",
     "text": [
      "C:\\Users\\petru\\AppData\\Local\\Temp\\ipykernel_12796\\4041125954.py:2: FutureWarning: Series.__getitem__ treating keys as positions is deprecated. In a future version, integer keys will always be treated as labels (consistent with DataFrame behavior). To access a value by position, use `ser.iloc[pos]`\n",
      "  ARPPU_control = control_group_sum / control_group_paying.drop_duplicates('user_id').count()[0]\n"
     ]
    }
   ],
   "source": [
    "ARPPU_test = test_group_sum / test_group_paying.drop_duplicates('user_id').count()[0]\n",
    "ARPPU_control = control_group_sum / control_group_paying.drop_duplicates('user_id').count()[0]\n",
    "print('ARPPU тестовой группы - ', ARPPU_test, '\\n', 'ARPPU контрольной группы - ', ARPPU_control)"
   ]
  },
  {
   "cell_type": "code",
   "execution_count": 32,
   "id": "7d7b07cd",
   "metadata": {},
   "outputs": [
    {
     "name": "stdout",
     "output_type": "stream",
     "text": [
      "Доверительный интервал тестовой группы (np.float64(2.4204277288673626), np.float64(9.905860501146952))\n",
      "Доверительный интервал контрольной группы (np.float64(2.163338538240738), np.float64(9.498879118842845))\n"
     ]
    }
   ],
   "source": [
    "test_paying_confidence = confidence(test_group_paying.groupby('user_id').agg('sum'), 'money')\n",
    "print('Доверительный интервал тестовой группы', test_paying_confidence)\n",
    "control_paying_confidence = confidence(control_group_paying.groupby('user_id').agg('sum'), 'money')\n",
    "print('Доверительный интервал контрольной группы', control_paying_confidence)"
   ]
  },
  {
   "cell_type": "code",
   "execution_count": 33,
   "id": "c1e20907",
   "metadata": {},
   "outputs": [
    {
     "name": "stdout",
     "output_type": "stream",
     "text": [
      "ARPPU тестовой группы больше контрольной на 5.7 %\n"
     ]
    }
   ],
   "source": [
    "print('ARPPU тестовой группы больше контрольной на', round((ARPPU_test - ARPPU_control) / ARPPU_control * 100, 1),'%')"
   ]
  },
  {
   "cell_type": "markdown",
   "id": "d3d99925",
   "metadata": {},
   "source": [
    "Доверительные интервалы перекрываются по обоим показателям, что свидетельствует о вероятной случайности полученных результатов. Возможно, акция оказывает влияние, однако оно незначительное и нестабильное."
   ]
  },
  {
   "cell_type": "markdown",
   "id": "1a9322db",
   "metadata": {},
   "source": [
    "Проверим те же метрики для групп разных платформ."
   ]
  },
  {
   "cell_type": "code",
   "execution_count": 34,
   "id": "270f7bf3",
   "metadata": {},
   "outputs": [],
   "source": [
    "\n",
    "test_group_PC = platforms_unique[platforms_unique['platform'] == 'PC'].merge(test_group, on='user_id')\n",
    "test_group_PS4 = platforms_unique[platforms_unique['platform'] == 'PS4'].merge(test_group, on='user_id')\n",
    "test_group_Xbox = platforms_unique[platforms_unique['platform'] == 'XBox'].merge(test_group, on='user_id')\n",
    "control_group_PC = platforms_unique[platforms_unique['platform'] == 'PC'].merge(control_group, on='user_id')\n",
    "control_group_PS4 = platforms_unique[platforms_unique['platform'] == 'PS4'].merge(control_group, on='user_id')\n",
    "control_group_Xbox = platforms_unique[platforms_unique['platform'] == 'XBox'].merge(control_group, on='user_id')"
   ]
  },
  {
   "cell_type": "markdown",
   "id": "82988331",
   "metadata": {},
   "source": [
    "Создадим  функцию  для исследования"
   ]
  },
  {
   "cell_type": "code",
   "execution_count": 35,
   "id": "867ba949",
   "metadata": {},
   "outputs": [],
   "source": [
    "def aru(df, column): # Поиск ARPU или ARPPU (зависит от подаваемого датафрейма)\n",
    "    print('Сумма', df[column].sum())\n",
    "    ARU = df[column].sum() / df.drop_duplicates('user_id').count()[0]\n",
    "    print(ARU)\n",
    "\n",
    "def intervals(df, column, alpha = 0.95): # Поиск дов. интервала\n",
    "    interval = stats.norm.interval(alpha, loc=df[column].mean(), scale=df[column].std())\n",
    "    print('Доверительный интервал', interval)\n",
    "    \n",
    "def all_research(df, column = 'money', alpha = 0.95):\n",
    "    \n",
    "    df_all = df.groupby('user_id').agg('sum').reset_index()\n",
    "    researh(df_all, column, color = 'blue', text = 'Все игроки группы')\n",
    "    print('ARPU')\n",
    "    aru(df_all, column)\n",
    "    intervals(df_all, column, alpha)\n",
    "\n",
    "    dfs = df.groupby('user_id').agg('sum').reset_index()  # вычленение платящих игроков (те у кого донаты больше 0)\n",
    "    df_p = dfs[dfs['money'] > 0]\n",
    "    print('-'* 20)\n",
    "    print('-'* 20, end = '\\n' * 3)\n",
    "    \n",
    "    print('Метрики платящих игроков')\n",
    "    \n",
    "    researh(df_p, column, color = 'yellow', text = 'Платящие игроки группы')   \n",
    "    print('ARPPU')\n",
    "    aru(df_p, column)\n",
    "    intervals(df_p, column, alpha = 0.95)\n",
    "    "
   ]
  },
  {
   "cell_type": "markdown",
   "id": "cc9211c6",
   "metadata": {},
   "source": [
    "Описание тестовой группы игроков на ПК"
   ]
  },
  {
   "cell_type": "code",
   "execution_count": 36,
   "id": "422cfb86",
   "metadata": {},
   "outputs": [
    {
     "name": "stdout",
     "output_type": "stream",
     "text": [
      "Базовые метрики\n",
      "count    179820.000000\n",
      "mean          6.269046\n",
      "std           1.929597\n",
      "min           0.000000\n",
      "25%           4.960000\n",
      "50%           5.960000\n",
      "75%           7.930000\n",
      "max          16.930000\n",
      "Name: money, dtype: float64\n",
      "Медиана -  5.96\n",
      "------------------------------------\n",
      "Самые популярные значения метрики, топ 5\n",
      "money\n",
      "5.95    18850\n",
      "4.96    15995\n",
      "6.95    13609\n",
      "6.94    12138\n",
      "3.96    11562\n",
      "Name: count, dtype: int64\n",
      "------------------------------------\n",
      "Эксцесс  0.04797887632809106\n",
      "Ассиметрия  0.24937041981274452\n"
     ]
    },
    {
     "data": {
      "image/png": "[encoded data removed]",
      "text/plain": [
       "<Figure size 1000x700 with 1 Axes>"
      ]
     },
     "metadata": {},
     "output_type": "display_data"
    },
    {
     "name": "stdout",
     "output_type": "stream",
     "text": [
      "ARPU\n",
      "Сумма 1127299.88\n",
      "6.269046157268379\n",
      "Доверительный интервал (np.float64(2.487105299492049), np.float64(10.05098701504471))\n"
     ]
    },
    {
     "name": "stderr",
     "output_type": "stream",
     "text": [
      "C:\\Users\\petru\\AppData\\Local\\Temp\\ipykernel_12796\\1096050072.py:3: FutureWarning: Series.__getitem__ treating keys as positions is deprecated. In a future version, integer keys will always be treated as labels (consistent with DataFrame behavior). To access a value by position, use `ser.iloc[pos]`\n",
      "  ARU = df[column].sum() / df.drop_duplicates('user_id').count()[0]\n"
     ]
    },
    {
     "name": "stdout",
     "output_type": "stream",
     "text": [
      "--------------------\n",
      "--------------------\n",
      "\n",
      "\n",
      "Метрики платящих игроков\n",
      "Базовые метрики\n",
      "count    179800.000000\n",
      "mean          6.269743\n",
      "std           1.928571\n",
      "min           0.990000\n",
      "25%           4.960000\n",
      "50%           5.960000\n",
      "75%           7.930000\n",
      "max          16.930000\n",
      "Name: money, dtype: float64\n",
      "Медиана -  5.96\n",
      "------------------------------------\n",
      "Самые популярные значения метрики, топ 5\n",
      "money\n",
      "5.95    18850\n",
      "4.96    15995\n",
      "6.95    13609\n",
      "6.94    12138\n",
      "3.96    11562\n",
      "Name: count, dtype: int64\n",
      "------------------------------------\n",
      "Эксцесс  0.04202343693785204\n",
      "Ассиметрия  0.25253229675619193\n"
     ]
    },
    {
     "data": {
      "image/png": "[encoded data removed]",
      "text/plain": [
       "<Figure size 1000x700 with 1 Axes>"
      ]
     },
     "metadata": {},
     "output_type": "display_data"
    },
    {
     "name": "stdout",
     "output_type": "stream",
     "text": [
      "ARPPU\n",
      "Сумма 1127299.8800000001\n",
      "6.269743492769745\n",
      "Доверительный интервал (np.float64(2.4898132993658173), np.float64(10.049673686173673))\n"
     ]
    },
    {
     "name": "stderr",
     "output_type": "stream",
     "text": [
      "C:\\Users\\petru\\AppData\\Local\\Temp\\ipykernel_12796\\1096050072.py:3: FutureWarning: Series.__getitem__ treating keys as positions is deprecated. In a future version, integer keys will always be treated as labels (consistent with DataFrame behavior). To access a value by position, use `ser.iloc[pos]`\n",
      "  ARU = df[column].sum() / df.drop_duplicates('user_id').count()[0]\n"
     ]
    }
   ],
   "source": [
    "all_research(test_group_PC)"
   ]
  },
  {
   "cell_type": "markdown",
   "id": "a2ccd882",
   "metadata": {},
   "source": [
    "Описание контрольной группы игроков на ПК"
   ]
  },
  {
   "cell_type": "code",
   "execution_count": 37,
   "id": "d91a1d9e",
   "metadata": {},
   "outputs": [
    {
     "name": "stdout",
     "output_type": "stream",
     "text": [
      "Базовые метрики\n",
      "count    179732.000000\n",
      "mean          5.646201\n",
      "std           1.816853\n",
      "min           0.000000\n",
      "25%           3.970000\n",
      "50%           5.940000\n",
      "75%           6.950000\n",
      "max          14.920000\n",
      "Name: money, dtype: float64\n",
      "Медиана -  5.9399999999999995\n",
      "------------------------------------\n",
      "Самые популярные значения метрики, топ 5\n",
      "money\n",
      "4.96    19237\n",
      "5.95    18918\n",
      "3.96    15515\n",
      "4.95    12858\n",
      "6.95    11808\n",
      "Name: count, dtype: int64\n",
      "------------------------------------\n",
      "Эксцесс  0.007294703110581668\n",
      "Ассиметрия  0.20938340950020856\n"
     ]
    },
    {
     "data": {
      "image/png": "[encoded data removed]",
      "text/plain": [
       "<Figure size 1000x700 with 1 Axes>"
      ]
     },
     "metadata": {},
     "output_type": "display_data"
    },
    {
     "name": "stdout",
     "output_type": "stream",
     "text": [
      "ARPU\n",
      "Сумма 1014803.06\n",
      "5.6462013442236225\n",
      "Доверительный интервал (np.float64(2.0852347204456825), np.float64(9.207167968001563))\n"
     ]
    },
    {
     "name": "stderr",
     "output_type": "stream",
     "text": [
      "C:\\Users\\petru\\AppData\\Local\\Temp\\ipykernel_12796\\1096050072.py:3: FutureWarning: Series.__getitem__ treating keys as positions is deprecated. In a future version, integer keys will always be treated as labels (consistent with DataFrame behavior). To access a value by position, use `ser.iloc[pos]`\n",
      "  ARU = df[column].sum() / df.drop_duplicates('user_id').count()[0]\n"
     ]
    },
    {
     "name": "stdout",
     "output_type": "stream",
     "text": [
      "--------------------\n",
      "--------------------\n",
      "\n",
      "\n",
      "Метрики платящих игроков\n",
      "Базовые метрики\n",
      "count    179665.000000\n",
      "mean          5.648307\n",
      "std           1.813917\n",
      "min           0.990000\n",
      "25%           3.970000\n",
      "50%           5.940000\n",
      "75%           6.950000\n",
      "max          14.920000\n",
      "Name: money, dtype: float64\n",
      "Медиана -  5.9399999999999995\n",
      "------------------------------------\n",
      "Самые популярные значения метрики, топ 5\n",
      "money\n",
      "4.96    19237\n",
      "5.95    18918\n",
      "3.96    15515\n",
      "4.95    12858\n",
      "6.95    11808\n",
      "Name: count, dtype: int64\n",
      "------------------------------------\n",
      "Эксцесс  -0.008085001731901187\n",
      "Ассиметрия  0.21824495829613558\n"
     ]
    },
    {
     "data": {
      "image/png": "[encoded data removed]",
      "text/plain": [
       "<Figure size 1000x700 with 1 Axes>"
      ]
     },
     "metadata": {},
     "output_type": "display_data"
    },
    {
     "name": "stdout",
     "output_type": "stream",
     "text": [
      "ARPPU\n",
      "Сумма 1014803.0599999999\n",
      "5.64830690451674\n",
      "Доверительный интервал (np.float64(2.0930958095566727), np.float64(9.203517999476807))\n"
     ]
    },
    {
     "name": "stderr",
     "output_type": "stream",
     "text": [
      "C:\\Users\\petru\\AppData\\Local\\Temp\\ipykernel_12796\\1096050072.py:3: FutureWarning: Series.__getitem__ treating keys as positions is deprecated. In a future version, integer keys will always be treated as labels (consistent with DataFrame behavior). To access a value by position, use `ser.iloc[pos]`\n",
      "  ARU = df[column].sum() / df.drop_duplicates('user_id').count()[0]\n"
     ]
    }
   ],
   "source": [
    "all_research(control_group_PC)"
   ]
  },
  {
   "cell_type": "markdown",
   "id": "8b51ee33",
   "metadata": {},
   "source": [
    "ARPU и ARPPU также выше у тестовой группы для игроков на ПК"
   ]
  },
  {
   "cell_type": "markdown",
   "id": "25d3e894",
   "metadata": {},
   "source": [
    "Описание тестовой группы игроков на PS4"
   ]
  },
  {
   "cell_type": "code",
   "execution_count": 38,
   "id": "b9b2e1a8",
   "metadata": {},
   "outputs": [
    {
     "name": "stdout",
     "output_type": "stream",
     "text": [
      "Базовые метрики\n",
      "count    179415.000000\n",
      "mean          6.084883\n",
      "std           1.885032\n",
      "min           0.000000\n",
      "25%           4.950000\n",
      "50%           5.950000\n",
      "75%           6.960000\n",
      "max          15.940000\n",
      "Name: money, dtype: float64\n",
      "Медиана -  5.95\n",
      "------------------------------------\n",
      "Самые популярные значения метрики, топ 5\n",
      "money\n",
      "5.95    18512\n",
      "4.96    16961\n",
      "6.95    13321\n",
      "3.96    12532\n",
      "4.95    11722\n",
      "Name: count, dtype: int64\n",
      "------------------------------------\n",
      "Эксцесс  0.005903475589768448\n",
      "Ассиметрия  0.21822758720072233\n"
     ]
    },
    {
     "data": {
      "image/png": "[encoded data removed]",
      "text/plain": [
       "<Figure size 1000x700 with 1 Axes>"
      ]
     },
     "metadata": {},
     "output_type": "display_data"
    },
    {
     "name": "stdout",
     "output_type": "stream",
     "text": [
      "ARPU\n",
      "Сумма 1091719.2100000002\n",
      "6.08488259064181\n",
      "Доверительный интервал (np.float64(2.3902870056309937), np.float64(9.779478175652626))\n"
     ]
    },
    {
     "name": "stderr",
     "output_type": "stream",
     "text": [
      "C:\\Users\\petru\\AppData\\Local\\Temp\\ipykernel_12796\\1096050072.py:3: FutureWarning: Series.__getitem__ treating keys as positions is deprecated. In a future version, integer keys will always be treated as labels (consistent with DataFrame behavior). To access a value by position, use `ser.iloc[pos]`\n",
      "  ARU = df[column].sum() / df.drop_duplicates('user_id').count()[0]\n"
     ]
    },
    {
     "name": "stdout",
     "output_type": "stream",
     "text": [
      "--------------------\n",
      "--------------------\n",
      "\n",
      "\n",
      "Метрики платящих игроков\n",
      "Базовые метрики\n",
      "count    179386.000000\n",
      "mean          6.085866\n",
      "std           1.883596\n",
      "min           0.990000\n",
      "25%           4.950000\n",
      "50%           5.950000\n",
      "75%           6.960000\n",
      "max          15.940000\n",
      "Name: money, dtype: float64\n",
      "Медиана -  5.95\n",
      "------------------------------------\n",
      "Самые популярные значения метрики, топ 5\n",
      "money\n",
      "5.95    18512\n",
      "4.96    16961\n",
      "6.95    13321\n",
      "3.96    12532\n",
      "4.95    11722\n",
      "Name: count, dtype: int64\n",
      "------------------------------------\n",
      "Эксцесс  -0.0025045069911668882\n",
      "Ассиметрия  0.22264586897913705\n"
     ]
    },
    {
     "data": {
      "image/png": "[encoded data removed]",
      "text/plain": [
       "<Figure size 1000x700 with 1 Axes>"
      ]
     },
     "metadata": {},
     "output_type": "display_data"
    },
    {
     "name": "stdout",
     "output_type": "stream",
     "text": [
      "ARPPU\n",
      "Сумма 1091719.21\n",
      "6.085866288339112\n",
      "Доверительный интервал (np.float64(2.394085465878397), np.float64(9.777647110799826))\n"
     ]
    },
    {
     "name": "stderr",
     "output_type": "stream",
     "text": [
      "C:\\Users\\petru\\AppData\\Local\\Temp\\ipykernel_12796\\1096050072.py:3: FutureWarning: Series.__getitem__ treating keys as positions is deprecated. In a future version, integer keys will always be treated as labels (consistent with DataFrame behavior). To access a value by position, use `ser.iloc[pos]`\n",
      "  ARU = df[column].sum() / df.drop_duplicates('user_id').count()[0]\n"
     ]
    }
   ],
   "source": [
    "all_research(test_group_PS4)"
   ]
  },
  {
   "cell_type": "markdown",
   "id": "a76bf6e5",
   "metadata": {},
   "source": [
    "Описание контрольнойгруппы игроков на PS4"
   ]
  },
  {
   "cell_type": "code",
   "execution_count": 39,
   "id": "493d63c4",
   "metadata": {},
   "outputs": [
    {
     "name": "stdout",
     "output_type": "stream",
     "text": [
      "Базовые метрики\n",
      "count    179804.000000\n",
      "mean          5.737647\n",
      "std           1.867068\n",
      "min           0.000000\n",
      "25%           3.980000\n",
      "50%           5.950000\n",
      "75%           6.950000\n",
      "max          14.920000\n",
      "Name: money, dtype: float64\n",
      "Медиана -  5.95\n",
      "------------------------------------\n",
      "Самые популярные значения метрики, топ 5\n",
      "money\n",
      "4.96    18389\n",
      "5.95    18113\n",
      "3.96    14827\n",
      "4.95    12557\n",
      "6.95    11980\n",
      "Name: count, dtype: int64\n",
      "------------------------------------\n",
      "Эксцесс  -0.03658336978708654\n",
      "Ассиметрия  0.21783101352028067\n"
     ]
    },
    {
     "data": {
      "image/png": "[encoded data removed]",
      "text/plain": [
       "<Figure size 1000x700 with 1 Axes>"
      ]
     },
     "metadata": {},
     "output_type": "display_data"
    },
    {
     "name": "stdout",
     "output_type": "stream",
     "text": [
      "ARPU\n",
      "Сумма 1031651.8699999999\n",
      "5.73764693777669\n",
      "Доверительный интервал (np.float64(2.078261143658351), np.float64(9.39703273189503))\n"
     ]
    },
    {
     "name": "stderr",
     "output_type": "stream",
     "text": [
      "C:\\Users\\petru\\AppData\\Local\\Temp\\ipykernel_12796\\1096050072.py:3: FutureWarning: Series.__getitem__ treating keys as positions is deprecated. In a future version, integer keys will always be treated as labels (consistent with DataFrame behavior). To access a value by position, use `ser.iloc[pos]`\n",
      "  ARU = df[column].sum() / df.drop_duplicates('user_id').count()[0]\n"
     ]
    },
    {
     "name": "stdout",
     "output_type": "stream",
     "text": [
      "--------------------\n",
      "--------------------\n",
      "\n",
      "\n",
      "Метрики платящих игроков\n",
      "Базовые метрики\n",
      "count    179747.000000\n",
      "mean          5.739466\n",
      "std           1.864566\n",
      "min           0.990000\n",
      "25%           3.980000\n",
      "50%           5.950000\n",
      "75%           6.950000\n",
      "max          14.920000\n",
      "Name: money, dtype: float64\n",
      "Медиана -  5.95\n",
      "------------------------------------\n",
      "Самые популярные значения метрики, топ 5\n",
      "money\n",
      "4.96    18389\n",
      "5.95    18113\n",
      "3.96    14827\n",
      "4.95    12557\n",
      "6.95    11980\n",
      "Name: count, dtype: int64\n",
      "------------------------------------\n",
      "Эксцесс  -0.04901753694799815\n",
      "Ассиметрия  0.22509134946442036\n"
     ]
    },
    {
     "data": {
      "image/png": "[encoded data removed]",
      "text/plain": [
       "<Figure size 1000x700 with 1 Axes>"
      ]
     },
     "metadata": {},
     "output_type": "display_data"
    },
    {
     "name": "stdout",
     "output_type": "stream",
     "text": [
      "ARPPU\n",
      "Сумма 1031651.87\n",
      "5.739466416685675\n",
      "Доверительный интервал (np.float64(2.0849849290883453), np.float64(9.393947904283003))\n"
     ]
    },
    {
     "name": "stderr",
     "output_type": "stream",
     "text": [
      "C:\\Users\\petru\\AppData\\Local\\Temp\\ipykernel_12796\\1096050072.py:3: FutureWarning: Series.__getitem__ treating keys as positions is deprecated. In a future version, integer keys will always be treated as labels (consistent with DataFrame behavior). To access a value by position, use `ser.iloc[pos]`\n",
      "  ARU = df[column].sum() / df.drop_duplicates('user_id').count()[0]\n"
     ]
    }
   ],
   "source": [
    "all_research(control_group_PS4)"
   ]
  },
  {
   "cell_type": "markdown",
   "id": "b9e36434",
   "metadata": {},
   "source": [
    "Значения показателей ARPU и ARPPU в тестовой группе превышают аналогичные показатели контрольной группы, однако остаются ниже значений, характерных для группы игроков на платформе ПК."
   ]
  },
  {
   "cell_type": "markdown",
   "id": "98be8eef",
   "metadata": {},
   "source": [
    "Описание тестовой группы игроков на XBox"
   ]
  },
  {
   "cell_type": "code",
   "execution_count": 40,
   "id": "3f68f51c",
   "metadata": {},
   "outputs": [
    {
     "name": "stdout",
     "output_type": "stream",
     "text": [
      "Базовые метрики\n",
      "count    180077.000000\n",
      "mean          6.132766\n",
      "std           1.912830\n",
      "min           0.000000\n",
      "25%           4.950000\n",
      "50%           5.950000\n",
      "75%           6.960000\n",
      "max          15.920000\n",
      "Name: money, dtype: float64\n",
      "Медиана -  5.95\n",
      "------------------------------------\n",
      "Самые популярные значения метрики, топ 5\n",
      "money\n",
      "5.95    18498\n",
      "4.96    16501\n",
      "6.95    13268\n",
      "3.96    12198\n",
      "4.95    11751\n",
      "Name: count, dtype: int64\n",
      "------------------------------------\n",
      "Эксцесс  0.012458503010370325\n",
      "Ассиметрия  0.23785999509845931\n"
     ]
    },
    {
     "data": {
      "image/png": "[encoded data removed]",
      "text/plain": [
       "<Figure size 1000x700 with 1 Axes>"
      ]
     },
     "metadata": {},
     "output_type": "display_data"
    },
    {
     "name": "stdout",
     "output_type": "stream",
     "text": [
      "ARPU\n",
      "Сумма 1104370.09\n"
     ]
    },
    {
     "name": "stderr",
     "output_type": "stream",
     "text": [
      "C:\\Users\\petru\\AppData\\Local\\Temp\\ipykernel_12796\\1096050072.py:3: FutureWarning: Series.__getitem__ treating keys as positions is deprecated. In a future version, integer keys will always be treated as labels (consistent with DataFrame behavior). To access a value by position, use `ser.iloc[pos]`\n",
      "  ARU = df[column].sum() / df.drop_duplicates('user_id').count()[0]\n"
     ]
    },
    {
     "name": "stdout",
     "output_type": "stream",
     "text": [
      "6.1327659279086175\n",
      "Доверительный интервал (np.float64(2.3836876747421654), np.float64(9.88184418107507))\n",
      "--------------------\n",
      "--------------------\n",
      "\n",
      "\n",
      "Метрики платящих игроков\n",
      "Базовые метрики\n",
      "count    180050.000000\n",
      "mean          6.133686\n",
      "std           1.911499\n",
      "min           0.990000\n",
      "25%           4.950000\n",
      "50%           5.950000\n",
      "75%           6.960000\n",
      "max          15.920000\n",
      "Name: money, dtype: float64\n",
      "Медиана -  5.95\n",
      "------------------------------------\n",
      "Самые популярные значения метрики, топ 5\n",
      "money\n",
      "5.95    18498\n",
      "4.96    16501\n",
      "6.95    13268\n",
      "3.96    12198\n",
      "4.95    11751\n",
      "Name: count, dtype: int64\n",
      "------------------------------------\n",
      "Эксцесс  0.004957897919129817\n",
      "Ассиметрия  0.24190226379422555\n"
     ]
    },
    {
     "data": {
      "image/png": "[encoded data removed]",
      "text/plain": [
       "<Figure size 1000x700 with 1 Axes>"
      ]
     },
     "metadata": {},
     "output_type": "display_data"
    },
    {
     "name": "stdout",
     "output_type": "stream",
     "text": [
      "ARPPU\n",
      "Сумма 1104370.0899999999\n",
      "6.13368558733685\n",
      "Доверительный интервал (np.float64(2.387217103485011), np.float64(9.88015407118869))\n"
     ]
    },
    {
     "name": "stderr",
     "output_type": "stream",
     "text": [
      "C:\\Users\\petru\\AppData\\Local\\Temp\\ipykernel_12796\\1096050072.py:3: FutureWarning: Series.__getitem__ treating keys as positions is deprecated. In a future version, integer keys will always be treated as labels (consistent with DataFrame behavior). To access a value by position, use `ser.iloc[pos]`\n",
      "  ARU = df[column].sum() / df.drop_duplicates('user_id').count()[0]\n"
     ]
    }
   ],
   "source": [
    "all_research(test_group_Xbox)"
   ]
  },
  {
   "cell_type": "markdown",
   "id": "d4e463ad",
   "metadata": {},
   "source": [
    "описание контрольной группы игроков на XBox"
   ]
  },
  {
   "cell_type": "code",
   "execution_count": 41,
   "id": "3bbe765f",
   "metadata": {},
   "outputs": [
    {
     "name": "stdout",
     "output_type": "stream",
     "text": [
      "Базовые метрики\n",
      "count    180455.000000\n",
      "mean          6.103521\n",
      "std           1.904373\n",
      "min           0.000000\n",
      "25%           4.950000\n",
      "50%           5.950000\n",
      "75%           6.960000\n",
      "max          15.930000\n",
      "Name: money, dtype: float64\n",
      "Медиана -  5.95\n",
      "------------------------------------\n",
      "Самые популярные значения метрики, топ 5\n",
      "money\n",
      "5.95    18545\n",
      "4.96    16931\n",
      "6.95    13263\n",
      "3.96    12429\n",
      "4.95    11836\n",
      "Name: count, dtype: int64\n",
      "------------------------------------\n",
      "Эксцесс  0.007546259405377231\n",
      "Ассиметрия  0.23325578640234226\n"
     ]
    },
    {
     "data": {
      "image/png": "[encoded data removed]",
      "text/plain": [
       "<Figure size 1000x700 with 1 Axes>"
      ]
     },
     "metadata": {},
     "output_type": "display_data"
    },
    {
     "name": "stdout",
     "output_type": "stream",
     "text": [
      "ARPU\n",
      "Сумма 1101410.8599999999\n"
     ]
    },
    {
     "name": "stderr",
     "output_type": "stream",
     "text": [
      "C:\\Users\\petru\\AppData\\Local\\Temp\\ipykernel_12796\\1096050072.py:3: FutureWarning: Series.__getitem__ treating keys as positions is deprecated. In a future version, integer keys will always be treated as labels (consistent with DataFrame behavior). To access a value by position, use `ser.iloc[pos]`\n",
      "  ARU = df[column].sum() / df.drop_duplicates('user_id').count()[0]\n"
     ]
    },
    {
     "name": "stdout",
     "output_type": "stream",
     "text": [
      "6.103520877781164\n",
      "Доверительный интервал (np.float64(2.3710174206990544), np.float64(9.836024334863273))\n",
      "--------------------\n",
      "--------------------\n",
      "\n",
      "\n",
      "Метрики платящих игроков\n",
      "Базовые метрики\n",
      "count    180428.000000\n",
      "mean          6.104434\n",
      "std           1.903052\n",
      "min           0.990000\n",
      "25%           4.950000\n",
      "50%           5.950000\n",
      "75%           6.960000\n",
      "max          15.930000\n",
      "Name: money, dtype: float64\n",
      "Медиана -  5.95\n",
      "------------------------------------\n",
      "Самые популярные значения метрики, топ 5\n",
      "money\n",
      "5.95    18545\n",
      "4.96    16931\n",
      "6.95    13263\n",
      "3.96    12429\n",
      "4.95    11836\n",
      "Name: count, dtype: int64\n",
      "------------------------------------\n",
      "Эксцесс  7.173932956971996e-05\n",
      "Ассиметрия  0.23727420948058614\n"
     ]
    },
    {
     "data": {
      "image/png": "[encoded data removed]",
      "text/plain": [
       "<Figure size 1000x700 with 1 Axes>"
      ]
     },
     "metadata": {},
     "output_type": "display_data"
    },
    {
     "name": "stdout",
     "output_type": "stream",
     "text": [
      "ARPPU\n",
      "Сумма 1101410.8599999999\n",
      "6.104434234154343\n",
      "Доверительный интервал (np.float64(2.3745215562719557), np.float64(9.83434691203673))\n"
     ]
    },
    {
     "name": "stderr",
     "output_type": "stream",
     "text": [
      "C:\\Users\\petru\\AppData\\Local\\Temp\\ipykernel_12796\\1096050072.py:3: FutureWarning: Series.__getitem__ treating keys as positions is deprecated. In a future version, integer keys will always be treated as labels (consistent with DataFrame behavior). To access a value by position, use `ser.iloc[pos]`\n",
      "  ARU = df[column].sum() / df.drop_duplicates('user_id').count()[0]\n"
     ]
    }
   ],
   "source": [
    "all_research(control_group_Xbox)"
   ]
  },
  {
   "cell_type": "markdown",
   "id": "65a61a74",
   "metadata": {},
   "source": [
    "Акция практически не оказала влияния на игроков Xbox. Наиболее заметный эффект наблюдался среди игроков на PC, тогда как игроки PlayStation 4 показали промежуточный результат."
   ]
  },
  {
   "cell_type": "markdown",
   "id": "85908250",
   "metadata": {},
   "source": [
    "Удалим неннужные нам датафреймы"
   ]
  },
  {
   "cell_type": "code",
   "execution_count": null,
   "id": "d84d68b8",
   "metadata": {},
   "outputs": [],
   "source": [
    "del all_player\n",
    "del cheaters_df\n",
    "del abgroup_df\n",
    "del platforms_df\n",
    "del players_payment"
   ]
  },
  {
   "cell_type": "markdown",
   "id": "749e3ca7",
   "metadata": {},
   "source": [
    "Создадим датафрейм, содержащий ежедневные показатели наших ключевых метрик, предназначенный впоследствии для экспорта в CSV-файл и дальнейшей обработки в Power BI.\n"
   ]
  },
  {
   "cell_type": "markdown",
   "id": "a318bdb1",
   "metadata": {},
   "source": [
    "Тестовая группа:"
   ]
  },
  {
   "cell_type": "markdown",
   "id": "d399fd45",
   "metadata": {},
   "source": [
    "Для этого объединим данные игроков тестовой группы с данными трат внутриигровой валюты."
   ]
  },
  {
   "cell_type": "code",
   "execution_count": 43,
   "id": "11aa7a58",
   "metadata": {},
   "outputs": [],
   "source": [
    "test_group_BI = test_group.merge(cash_df, on=['user_id', 'date'])"
   ]
  },
  {
   "cell_type": "markdown",
   "id": "f210bdf1",
   "metadata": {},
   "source": [
    "Для того, чтобы посчитать количество игроков, тративших внутриигровую валюту, добавим столбец pay_users в датафрейм, в котором проставим значение 1 , если были совершены траты валюты"
   ]
  },
  {
   "cell_type": "code",
   "execution_count": 44,
   "id": "8b83fb7e",
   "metadata": {},
   "outputs": [],
   "source": [
    "test_group_BI['pay_users'] = np.where(test_group_BI['cash'] > 0, 1, 0)"
   ]
  },
  {
   "cell_type": "markdown",
   "id": "9bc78f75",
   "metadata": {},
   "source": [
    "Сгруппируем данные по дате, считаем количество игроков за каждую дату и добавляем соответствующий столбец в датафрейм"
   ]
  },
  {
   "cell_type": "code",
   "execution_count": null,
   "id": "37e44b78",
   "metadata": {},
   "outputs": [],
   "source": [
    "test_group_BI = test_group_BI.groupby('date').agg('sum')"
   ]
  },
  {
   "cell_type": "markdown",
   "id": "c485a427",
   "metadata": {},
   "source": [
    "Удалим неактуальные столбцы"
   ]
  },
  {
   "cell_type": "code",
   "execution_count": null,
   "id": "71a4288b",
   "metadata": {},
   "outputs": [],
   "source": [
    "test_group_BI = test_group_BI.drop(columns=['cheaters', 'group'])"
   ]
  },
  {
   "cell_type": "markdown",
   "id": "df72022a",
   "metadata": {},
   "source": [
    "Добавим столбец users, в котором посчитаем всех игроков тестовой группы"
   ]
  },
  {
   "cell_type": "code",
   "execution_count": null,
   "id": "48ca1e75",
   "metadata": {},
   "outputs": [],
   "source": [
    "test_group_BI['users'] = test_group.groupby('date').agg('count')['user_id'].iloc[1]"
   ]
  },
  {
   "cell_type": "markdown",
   "id": "0435ed26",
   "metadata": {},
   "source": [
    "Рассчитаем ARPU и ARPPU для игроков тестовой группы"
   ]
  },
  {
   "cell_type": "code",
   "execution_count": null,
   "id": "cb8aac85",
   "metadata": {},
   "outputs": [],
   "source": [
    "test_group_BI['ARPU'] = test_group_BI['money'] / test_group_BI['users']"
   ]
  },
  {
   "cell_type": "code",
   "execution_count": null,
   "id": "7319133c",
   "metadata": {},
   "outputs": [],
   "source": [
    "test_group_BI['ARPPU'] = test_group_BI['money'] / test_group_BI['pay_users']"
   ]
  },
  {
   "cell_type": "code",
   "execution_count": null,
   "id": "0385501d",
   "metadata": {},
   "outputs": [
    {
     "data": {
      "text/html": [
       "<div>\n",
       "<style scoped>\n",
       "    .dataframe tbody tr th:only-of-type {\n",
       "        vertical-align: middle;\n",
       "    }\n",
       "\n",
       "    .dataframe tbody tr th {\n",
       "        vertical-align: top;\n",
       "    }\n",
       "\n",
       "    .dataframe thead th {\n",
       "        text-align: right;\n",
       "    }\n",
       "</style>\n",
       "<table border=\"1\" class=\"dataframe\">\n",
       "  <thead>\n",
       "    <tr style=\"text-align: right;\">\n",
       "      <th></th>\n",
       "      <th>money</th>\n",
       "      <th>cash</th>\n",
       "      <th>pay_users</th>\n",
       "      <th>users</th>\n",
       "      <th>ARPU</th>\n",
       "      <th>ARPPU</th>\n",
       "    </tr>\n",
       "    <tr>\n",
       "      <th>date</th>\n",
       "      <th></th>\n",
       "      <th></th>\n",
       "      <th></th>\n",
       "      <th></th>\n",
       "      <th></th>\n",
       "      <th></th>\n",
       "    </tr>\n",
       "  </thead>\n",
       "  <tbody>\n",
       "    <tr>\n",
       "      <th>10.07.2021</th>\n",
       "      <td>410341.94</td>\n",
       "      <td>439980100</td>\n",
       "      <td>523174</td>\n",
       "      <td>539312</td>\n",
       "      <td>0.760862</td>\n",
       "      <td>0.784332</td>\n",
       "    </tr>\n",
       "    <tr>\n",
       "      <th>11.07.2021</th>\n",
       "      <td>410937.94</td>\n",
       "      <td>440212450</td>\n",
       "      <td>523343</td>\n",
       "      <td>539312</td>\n",
       "      <td>0.761967</td>\n",
       "      <td>0.785217</td>\n",
       "    </tr>\n",
       "    <tr>\n",
       "      <th>12.07.2021</th>\n",
       "      <td>409077.72</td>\n",
       "      <td>437566350</td>\n",
       "      <td>522446</td>\n",
       "      <td>539312</td>\n",
       "      <td>0.758518</td>\n",
       "      <td>0.783005</td>\n",
       "    </tr>\n",
       "    <tr>\n",
       "      <th>13.07.2021</th>\n",
       "      <td>400947.80</td>\n",
       "      <td>428022700</td>\n",
       "      <td>517763</td>\n",
       "      <td>539312</td>\n",
       "      <td>0.743443</td>\n",
       "      <td>0.774385</td>\n",
       "    </tr>\n",
       "    <tr>\n",
       "      <th>14.07.2021</th>\n",
       "      <td>383022.82</td>\n",
       "      <td>402593600</td>\n",
       "      <td>501023</td>\n",
       "      <td>539312</td>\n",
       "      <td>0.710206</td>\n",
       "      <td>0.764482</td>\n",
       "    </tr>\n",
       "    <tr>\n",
       "      <th>15.07.2021</th>\n",
       "      <td>353538.54</td>\n",
       "      <td>356375500</td>\n",
       "      <td>462393</td>\n",
       "      <td>539312</td>\n",
       "      <td>0.655536</td>\n",
       "      <td>0.764585</td>\n",
       "    </tr>\n",
       "    <tr>\n",
       "      <th>16.07.2021</th>\n",
       "      <td>314611.74</td>\n",
       "      <td>290573050</td>\n",
       "      <td>398001</td>\n",
       "      <td>539312</td>\n",
       "      <td>0.583358</td>\n",
       "      <td>0.790480</td>\n",
       "    </tr>\n",
       "    <tr>\n",
       "      <th>17.07.2021</th>\n",
       "      <td>640910.68</td>\n",
       "      <td>564372300</td>\n",
       "      <td>324212</td>\n",
       "      <td>539312</td>\n",
       "      <td>1.188386</td>\n",
       "      <td>1.976826</td>\n",
       "    </tr>\n",
       "  </tbody>\n",
       "</table>\n",
       "</div>"
      ],
      "text/plain": [
       "                money       cash  pay_users   users      ARPU     ARPPU\n",
       "date                                                                   \n",
       "10.07.2021  410341.94  439980100     523174  539312  0.760862  0.784332\n",
       "11.07.2021  410937.94  440212450     523343  539312  0.761967  0.785217\n",
       "12.07.2021  409077.72  437566350     522446  539312  0.758518  0.783005\n",
       "13.07.2021  400947.80  428022700     517763  539312  0.743443  0.774385\n",
       "14.07.2021  383022.82  402593600     501023  539312  0.710206  0.764482\n",
       "15.07.2021  353538.54  356375500     462393  539312  0.655536  0.764585\n",
       "16.07.2021  314611.74  290573050     398001  539312  0.583358  0.790480\n",
       "17.07.2021  640910.68  564372300     324212  539312  1.188386  1.976826"
      ]
     },
     "execution_count": 50,
     "metadata": {},
     "output_type": "execute_result"
    }
   ],
   "source": [
    "test_group_BI = test_group_BI.drop(columns=['user_id'])\n",
    "test_group_BI"
   ]
  },
  {
   "cell_type": "markdown",
   "id": "9c773fbf",
   "metadata": {},
   "source": [
    "Аналогичные действия проведем с данными для контрольной группы"
   ]
  },
  {
   "cell_type": "markdown",
   "id": "aa129fa5",
   "metadata": {},
   "source": [
    "Контрольная группа:"
   ]
  },
  {
   "cell_type": "code",
   "execution_count": null,
   "id": "d427dd0c",
   "metadata": {},
   "outputs": [
    {
     "data": {
      "text/html": [
       "<div>\n",
       "<style scoped>\n",
       "    .dataframe tbody tr th:only-of-type {\n",
       "        vertical-align: middle;\n",
       "    }\n",
       "\n",
       "    .dataframe tbody tr th {\n",
       "        vertical-align: top;\n",
       "    }\n",
       "\n",
       "    .dataframe thead th {\n",
       "        text-align: right;\n",
       "    }\n",
       "</style>\n",
       "<table border=\"1\" class=\"dataframe\">\n",
       "  <thead>\n",
       "    <tr style=\"text-align: right;\">\n",
       "      <th></th>\n",
       "      <th>money</th>\n",
       "      <th>cash</th>\n",
       "      <th>pay_users</th>\n",
       "      <th>users</th>\n",
       "      <th>ARPU</th>\n",
       "      <th>ARPPU</th>\n",
       "    </tr>\n",
       "    <tr>\n",
       "      <th>date</th>\n",
       "      <th></th>\n",
       "      <th></th>\n",
       "      <th></th>\n",
       "      <th></th>\n",
       "      <th></th>\n",
       "      <th></th>\n",
       "    </tr>\n",
       "  </thead>\n",
       "  <tbody>\n",
       "    <tr>\n",
       "      <th>10.07.2021</th>\n",
       "      <td>393870.25</td>\n",
       "      <td>414345600</td>\n",
       "      <td>523103</td>\n",
       "      <td>539991</td>\n",
       "      <td>0.729402</td>\n",
       "      <td>0.752950</td>\n",
       "    </tr>\n",
       "    <tr>\n",
       "      <th>11.07.2021</th>\n",
       "      <td>392476.58</td>\n",
       "      <td>413883550</td>\n",
       "      <td>522779</td>\n",
       "      <td>539991</td>\n",
       "      <td>0.726821</td>\n",
       "      <td>0.750750</td>\n",
       "    </tr>\n",
       "    <tr>\n",
       "      <th>12.07.2021</th>\n",
       "      <td>390787.80</td>\n",
       "      <td>411404650</td>\n",
       "      <td>521851</td>\n",
       "      <td>539991</td>\n",
       "      <td>0.723693</td>\n",
       "      <td>0.748849</td>\n",
       "    </tr>\n",
       "    <tr>\n",
       "      <th>13.07.2021</th>\n",
       "      <td>382743.77</td>\n",
       "      <td>401374950</td>\n",
       "      <td>516310</td>\n",
       "      <td>539991</td>\n",
       "      <td>0.708797</td>\n",
       "      <td>0.741306</td>\n",
       "    </tr>\n",
       "    <tr>\n",
       "      <th>14.07.2021</th>\n",
       "      <td>364514.38</td>\n",
       "      <td>376459800</td>\n",
       "      <td>498612</td>\n",
       "      <td>539991</td>\n",
       "      <td>0.675038</td>\n",
       "      <td>0.731058</td>\n",
       "    </tr>\n",
       "    <tr>\n",
       "      <th>15.07.2021</th>\n",
       "      <td>335543.71</td>\n",
       "      <td>331369100</td>\n",
       "      <td>457854</td>\n",
       "      <td>539991</td>\n",
       "      <td>0.621388</td>\n",
       "      <td>0.732862</td>\n",
       "    </tr>\n",
       "    <tr>\n",
       "      <th>16.07.2021</th>\n",
       "      <td>299028.24</td>\n",
       "      <td>269428450</td>\n",
       "      <td>392376</td>\n",
       "      <td>539991</td>\n",
       "      <td>0.553765</td>\n",
       "      <td>0.762096</td>\n",
       "    </tr>\n",
       "    <tr>\n",
       "      <th>17.07.2021</th>\n",
       "      <td>588901.06</td>\n",
       "      <td>514062600</td>\n",
       "      <td>318602</td>\n",
       "      <td>539991</td>\n",
       "      <td>1.090576</td>\n",
       "      <td>1.848391</td>\n",
       "    </tr>\n",
       "  </tbody>\n",
       "</table>\n",
       "</div>"
      ],
      "text/plain": [
       "                money       cash  pay_users   users      ARPU     ARPPU\n",
       "date                                                                   \n",
       "10.07.2021  393870.25  414345600     523103  539991  0.729402  0.752950\n",
       "11.07.2021  392476.58  413883550     522779  539991  0.726821  0.750750\n",
       "12.07.2021  390787.80  411404650     521851  539991  0.723693  0.748849\n",
       "13.07.2021  382743.77  401374950     516310  539991  0.708797  0.741306\n",
       "14.07.2021  364514.38  376459800     498612  539991  0.675038  0.731058\n",
       "15.07.2021  335543.71  331369100     457854  539991  0.621388  0.732862\n",
       "16.07.2021  299028.24  269428450     392376  539991  0.553765  0.762096\n",
       "17.07.2021  588901.06  514062600     318602  539991  1.090576  1.848391"
      ]
     },
     "execution_count": 51,
     "metadata": {},
     "output_type": "execute_result"
    }
   ],
   "source": [
    "control_group_BI = control_group.merge(cash_df, on=['user_id', 'date'])\n",
    "control_group_BI['pay_users'] = np.where(control_group_BI['cash'] > 0, 1, 0)\n",
    "control_group_BI = control_group_BI.groupby('date').agg('sum')\n",
    "control_group_BI = control_group_BI.drop(columns=['cheaters', 'group'])\n",
    "control_group_BI['users'] = control_group.groupby('date').agg('count')['user_id'].iloc[1]\n",
    "control_group_BI['ARPU'] = control_group_BI['money'] / control_group_BI['users']\n",
    "control_group_BI['ARPPU'] = control_group_BI['money'] / control_group_BI['pay_users']\n",
    "control_group_BI = control_group_BI.drop(columns=['user_id'])\n",
    "control_group_BI\n"
   ]
  },
  {
   "cell_type": "markdown",
   "id": "2a0faa69",
   "metadata": {},
   "source": [
    "Сохраним данные в формате csv для последующей обработки в Power BI"
   ]
  },
  {
   "cell_type": "code",
   "execution_count": null,
   "id": "b436dab4",
   "metadata": {},
   "outputs": [],
   "source": [
    "test_group_BI.to_csv('test_group_BI.csv', index=False)\n",
    "control_group_BI.to_csv('control_group_BI.csv', index=False)"
   ]
  },
  {
   "cell_type": "markdown",
   "id": "2a17ea8d",
   "metadata": {},
   "source": [
    "Для дальнейшего формирования сводной таблицы нам потребуется подготовить таблицу в файле Excel, содержащую следующие данные: количество игроков, используемую платформу, принадлежность к группе и общий объем платежей за указанный период."
   ]
  },
  {
   "cell_type": "code",
   "execution_count": null,
   "id": "78e8f98f",
   "metadata": {},
   "outputs": [],
   "source": [
    "excel = money_df.groupby('user_id').agg('sum').reset_index()\\\n",
    ".merge(platforms_unique, on = 'user_id').merge(players, on = 'user_id')\\\n",
    ".drop(columns = 'cheaters')"
   ]
  },
  {
   "cell_type": "markdown",
   "id": "38986543",
   "metadata": {},
   "source": [
    "Сгруппируем данные по двум признакам - платворме и группе и получим датафрейм, содержащий суммы значений по каждому сочетанию платформы и группы.\n",
    "Полученный датафрейм объединим с датафреймом в котором будет содержаться количество записей для каждого сочетания платформы и группы.\n",
    "Получим итоговый датафрейм, объединяющий сумму значений для каждой группы и количество записей внутри данной группы."
   ]
  },
  {
   "cell_type": "code",
   "execution_count": null,
   "id": "d8233f4d",
   "metadata": {},
   "outputs": [],
   "source": [
    "df_excel = excel.groupby(['platform', 'group']).agg('sum').reset_index()\n",
    "df_excel = df_excel.merge(excel.groupby(['platform', 'group']).agg('count').reset_index()[['user_id', 'platform', 'group']], on = ['platform', 'group'])"
   ]
  },
  {
   "cell_type": "markdown",
   "id": "e1413562",
   "metadata": {},
   "source": [
    "Переименуем столбец "
   ]
  },
  {
   "cell_type": "code",
   "execution_count": null,
   "id": "500a89bd",
   "metadata": {},
   "outputs": [],
   "source": [
    "df_excel.rename(columns = {'user_id_y' : 'users' }, inplace = True)"
   ]
  },
  {
   "cell_type": "markdown",
   "id": "de5247d6",
   "metadata": {},
   "source": [
    "Сохраним итоговый файл в формат xlsx для создания сводной таблицы в excel"
   ]
  },
  {
   "cell_type": "code",
   "execution_count": null,
   "id": "2710d96c",
   "metadata": {},
   "outputs": [],
   "source": [
    "df_excel.to_excel('table.xlsx')"
   ]
  }
 ],
 "metadata": {
  "kernelspec": {
   "display_name": "Python 3",
   "language": "python",
   "name": "python3"
  },
  "language_info": {
   "codemirror_mode": {
    "name": "ipython",
    "version": 3
   },
   "file_extension": ".py",
   "mimetype": "text/x-python",
   "name": "python",
   "nbconvert_exporter": "python",
   "pygments_lexer": "ipython3",
   "version": "3.11.9"
  }
 },
 "nbformat": 4,
 "nbformat_minor": 5
}
