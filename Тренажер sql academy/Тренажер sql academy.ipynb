{
 "cells": [
  {
   "cell_type": "markdown",
   "id": "2a8d630d",
   "metadata": {},
   "source": [
    "Задание 1\n",
    "Вывести имена всех людей, которые есть в базе данных авиакомпаний\n"
   ]
  },
  {
   "cell_type": "code",
   "execution_count": null,
   "id": "b54f326a",
   "metadata": {
    "vscode": {
     "languageId": "plaintext"
    }
   },
   "outputs": [],
   "source": [
    "SELECT name\n",
    "FROM Passenger"
   ]
  },
  {
   "cell_type": "markdown",
   "id": "cf73b1b9",
   "metadata": {},
   "source": [
    "Задание 2\n",
    "Вывести названия всеx авиакомпаний"
   ]
  },
  {
   "cell_type": "code",
   "execution_count": null,
   "id": "aef3955c",
   "metadata": {
    "vscode": {
     "languageId": "plaintext"
    }
   },
   "outputs": [],
   "source": [
    "SELECT name\n",
    "FROM Company"
   ]
  },
  {
   "cell_type": "markdown",
   "id": "729ca8fa",
   "metadata": {},
   "source": [
    "Задание 3\n",
    "Вывести все рейсы, совершенные из Москвы"
   ]
  },
  {
   "cell_type": "code",
   "execution_count": null,
   "id": "1d509727",
   "metadata": {
    "vscode": {
     "languageId": "plaintext"
    }
   },
   "outputs": [],
   "source": [
    "SELECT *\n",
    "FROM Trip\n",
    "WHERE town_from = 'Moscow'"
   ]
  },
  {
   "cell_type": "markdown",
   "id": "40f4b25d",
   "metadata": {},
   "source": [
    "Задание 4\n",
    "Вывести имена людей, которые заканчиваются на \"man\""
   ]
  },
  {
   "cell_type": "code",
   "execution_count": null,
   "id": "253ac4b6",
   "metadata": {
    "vscode": {
     "languageId": "plaintext"
    }
   },
   "outputs": [],
   "source": [
    "SELECT name\n",
    "FROM Passenger\n",
    "WHERE name LIKE '%man'"
   ]
  },
  {
   "cell_type": "markdown",
   "id": "950af396",
   "metadata": {},
   "source": [
    "Задание 5\n",
    "Вывести количество рейсов, совершенных на TU-134"
   ]
  },
  {
   "cell_type": "code",
   "execution_count": null,
   "id": "c32c88b7",
   "metadata": {
    "vscode": {
     "languageId": "plaintext"
    }
   },
   "outputs": [],
   "source": [
    "SELECT COUNT(plane) AS count\n",
    "FROM Trip\n",
    "WHERE plane = 'TU-134'"
   ]
  },
  {
   "cell_type": "markdown",
   "id": "30cf204b",
   "metadata": {},
   "source": [
    "Задание 6\n",
    "Какие компании совершали перелеты на Boeing"
   ]
  },
  {
   "cell_type": "code",
   "execution_count": null,
   "id": "e480f9e0",
   "metadata": {
    "vscode": {
     "languageId": "plaintext"
    }
   },
   "outputs": [],
   "source": [
    "SELECT DISTINCT Company.name\n",
    "FROM Trip\n",
    "JOIN Company ON Trip.company = Company.id\n",
    "WHERE Trip.plane = 'Boeing'"
   ]
  },
  {
   "cell_type": "markdown",
   "id": "16e15128",
   "metadata": {},
   "source": [
    "Задание 7\n",
    "Вывести все названия самолётов, на которых можно улететь в Москву (Moscow)"
   ]
  },
  {
   "cell_type": "code",
   "execution_count": null,
   "id": "ecb2cb22",
   "metadata": {
    "vscode": {
     "languageId": "plaintext"
    }
   },
   "outputs": [],
   "source": [
    "SELECT plane\n",
    "FROM Trip\n",
    "WHERE town_to = 'Moscow'\n",
    "GROUP BY plane"
   ]
  },
  {
   "cell_type": "markdown",
   "id": "7630593d",
   "metadata": {},
   "source": [
    "Задание 8\n",
    "В какие города можно улететь из Парижа (Paris) и сколько времени это займёт?"
   ]
  },
  {
   "cell_type": "code",
   "execution_count": null,
   "id": "e89493ad",
   "metadata": {
    "vscode": {
     "languageId": "plaintext"
    }
   },
   "outputs": [],
   "source": [
    "SELECT town_to,\n",
    "    TIMEDIFF(time_in, time_out) AS flight_time\n",
    "FROM Trip\n",
    "WHERE town_from = 'Paris'"
   ]
  },
  {
   "cell_type": "markdown",
   "id": "98024c88",
   "metadata": {},
   "source": [
    "\n",
    "Задание 9\n",
    "Какие компании организуют перелеты из Владивостока (Vladivostok)?"
   ]
  },
  {
   "cell_type": "code",
   "execution_count": null,
   "id": "34e64253",
   "metadata": {
    "vscode": {
     "languageId": "plaintext"
    }
   },
   "outputs": [],
   "source": [
    "SELECT DISTINCT name\n",
    "FROM Company\n",
    "LEFT JOIN TRIP ON Company.id = Trip.company\n",
    "WHERE town_from = 'Vladivostok'"
   ]
  },
  {
   "cell_type": "markdown",
   "id": "7b6387ab",
   "metadata": {},
   "source": [
    "Задание 10\n",
    "Вывести вылеты, совершенные с 10 ч. по 14 ч. 1 января 1900 г."
   ]
  },
  {
   "cell_type": "code",
   "execution_count": null,
   "id": "4b03f3df",
   "metadata": {
    "vscode": {
     "languageId": "plaintext"
    }
   },
   "outputs": [],
   "source": [
    "SELECT *\n",
    "FROM Trip\n",
    "WHERE time_out BETWEEN '1900-01-01T10:00:00.000Z' AND '1900-01-01T14:00:00.000Z'"
   ]
  },
  {
   "cell_type": "markdown",
   "id": "6b653e01",
   "metadata": {},
   "source": [
    "Задание 11\n",
    "Выведите пассажиров с самым длинным ФИО. Пробелы, дефисы и точки считаются частью имени."
   ]
  },
  {
   "cell_type": "code",
   "execution_count": null,
   "id": "dde3930c",
   "metadata": {
    "vscode": {
     "languageId": "plaintext"
    }
   },
   "outputs": [],
   "source": [
    "SELECT name\n",
    "FROM passenger\n",
    "WHERE LENGTH(name) = (\n",
    "    SELECT MAX(LENGTH(name))\n",
    "    FROM passenger);\n"
   ]
  },
  {
   "cell_type": "markdown",
   "id": "6f9b5826",
   "metadata": {},
   "source": [
    "Задание 12\n",
    "Выведите идентификаторы всех рейсов и количество пассажиров на них. Обратите внимание, что на каких-то рейсах пассажиров может не быть. В этом случае выведите число \"0\".\n"
   ]
  },
  {
   "cell_type": "code",
   "execution_count": null,
   "id": "6fdc3ab7",
   "metadata": {
    "vscode": {
     "languageId": "plaintext"
    }
   },
   "outputs": [],
   "source": [
    "SELECT Trip.id, COALESCE(COUNT(Pass_in_trip.passenger), 0) AS count\n",
    "FROM Trip\n",
    "LEFT JOIN Pass_in_trip\n",
    "    ON Trip.id = Pass_in_trip.trip\n",
    "GROUP BY Trip.id;"
   ]
  },
  {
   "cell_type": "markdown",
   "id": "043a4e2e",
   "metadata": {},
   "source": [
    "Задание 13\n",
    "Вывести имена людей, у которых есть полный тёзка среди пассажиров"
   ]
  },
  {
   "cell_type": "code",
   "execution_count": null,
   "id": "0c2f52a4",
   "metadata": {
    "vscode": {
     "languageId": "plaintext"
    }
   },
   "outputs": [],
   "source": [
    "SELECT name\n",
    "FROM Passenger\n",
    "GROUP BY name\n",
    "HAVING COUNT(*) > 1"
   ]
  },
  {
   "cell_type": "markdown",
   "id": "ca2a2089",
   "metadata": {},
   "source": [
    "Задание 14\n",
    "В какие города летал Bruce Willis"
   ]
  },
  {
   "cell_type": "code",
   "execution_count": null,
   "id": "0084d289",
   "metadata": {
    "vscode": {
     "languageId": "plaintext"
    }
   },
   "outputs": [],
   "source": [
    "SELECT town_to\n",
    "FROM Passenger\n",
    "INNER JOIN Pass_in_trip\n",
    "    ON Passenger.id = Pass_in_trip.passenger\n",
    "INNER JOIN Trip\n",
    "    ON Pass_in_trip.trip = Trip.id\n",
    "WHERE Passenger.name = 'Bruce Willis'"
   ]
  },
  {
   "cell_type": "markdown",
   "id": "9be4ef7a",
   "metadata": {},
   "source": [
    "Задание 15\n",
    "Выведите идентификатор пассажира Стив Мартин (Steve Martin) и дату и время его прилёта в Лондон (London)"
   ]
  },
  {
   "cell_type": "code",
   "execution_count": null,
   "id": "b0ba1be7",
   "metadata": {
    "vscode": {
     "languageId": "plaintext"
    }
   },
   "outputs": [],
   "source": [
    "SELECT Passenger.id AS id, Trip.time_in AS time_in\n",
    "FROM Passenger\n",
    "INNER JOIN Pass_in_trip\n",
    "    ON Passenger.id = Pass_in_trip.passenger\n",
    "INNER JOIN Trip\n",
    "    ON Pass_in_trip.trip = Trip.id\n",
    "WHERE Passenger.name = 'Steve Martin' AND town_to = 'London'"
   ]
  },
  {
   "cell_type": "markdown",
   "id": "943e9cf0",
   "metadata": {},
   "source": [
    "Задание 16\n",
    "Вывести отсортированный по количеству перелетов (по убыванию) и имени (по возрастанию) список пассажиров, совершивших хотя бы 1 полет."
   ]
  },
  {
   "cell_type": "code",
   "execution_count": null,
   "id": "7c832c2e",
   "metadata": {
    "vscode": {
     "languageId": "plaintext"
    }
   },
   "outputs": [],
   "source": [
    "SELECT name, COUNT(passenger) AS count\n",
    "FROM Passenger\n",
    "JOIN Pass_in_trip\n",
    "    ON Passenger.id = Pass_in_trip.passenger\n",
    "GROUP BY name\n",
    "HAVING COUNT >= 1\n",
    "ORDER BY count DESC, name"
   ]
  },
  {
   "cell_type": "markdown",
   "id": "e35d396e",
   "metadata": {},
   "source": [
    "Задание 17\n",
    "Определить, сколько потратил в 2005 году каждый из членов семьи. В результирующей выборке не выводите тех членов семьи, которые ничего не потратили."
   ]
  },
  {
   "cell_type": "code",
   "execution_count": null,
   "id": "bd341836",
   "metadata": {
    "vscode": {
     "languageId": "plaintext"
    }
   },
   "outputs": [],
   "source": [
    "SELECT member_name,\n",
    "    status,\n",
    "    SUM(unit_price * amount) AS costs\n",
    "FROM FamilyMembers\n",
    "JOIN Payments\n",
    "    ON FamilyMembers.member_id = Payments.family_member\n",
    "WHERE date LIKE '2005%'\n",
    "GROUP BY family_member"
   ]
  },
  {
   "cell_type": "markdown",
   "id": "ec603814",
   "metadata": {},
   "source": [
    "Задание 18\n",
    "Выведите имя самого старшего человека. Если таких несколько, то выведите их всех."
   ]
  },
  {
   "cell_type": "code",
   "execution_count": null,
   "id": "59a2e7f2",
   "metadata": {
    "vscode": {
     "languageId": "plaintext"
    }
   },
   "outputs": [],
   "source": [
    "SELECT member_name\n",
    "FROM FamilyMembers\n",
    "WHERE TIMESTAMPDIFF(YEAR, birthday, NOW()) = \n",
    "    (SELECT MAX(TIMESTAMPDIFF(YEAR, birthday, NOW()))\n",
    "    FROM FamilyMembers)"
   ]
  },
  {
   "cell_type": "markdown",
   "id": "5c5f29aa",
   "metadata": {},
   "source": [
    "Задание 19\n",
    "Определить, кто из членов семьи покупал картошку (potato)"
   ]
  },
  {
   "cell_type": "code",
   "execution_count": null,
   "id": "24739e62",
   "metadata": {
    "vscode": {
     "languageId": "plaintext"
    }
   },
   "outputs": [],
   "source": [
    "SELECT FamilyMembers.status\n",
    "FROM FamilyMembers\n",
    "INNER JOIN Payments\n",
    "    ON FamilyMembers.member_id = Payments.family_member\n",
    "INNER JOIN Goods\n",
    "    ON Payments.good = Goods.good_id\n",
    "WHERE good_name = 'potato'\n",
    "GROUP BY FamilyMembers.status"
   ]
  },
  {
   "cell_type": "markdown",
   "id": "dec95110",
   "metadata": {},
   "source": [
    "Задание 20\n",
    "Сколько и кто из семьи потратил на развлечения (entertainment). Вывести статус в семье, имя, сумму"
   ]
  },
  {
   "cell_type": "code",
   "execution_count": null,
   "id": "7dcf1a35",
   "metadata": {
    "vscode": {
     "languageId": "plaintext"
    }
   },
   "outputs": [],
   "source": [
    "SELECT status,\n",
    "    member_name,\n",
    "    SUM(unit_price*amount) AS costs\n",
    "FROM FamilyMembers\n",
    "JOIN Payments\n",
    "    ON FamilyMembers.member_id = Payments.family_member\n",
    "JOIN Goods\n",
    "    ON Payments.good = Goods.good_id\n",
    "JOIN GoodTypes\n",
    "    ON Goods.type = GoodTypes.good_type_id\n",
    "WHERE good_type_name = 'entertainment'\n",
    "GROUP BY family_member"
   ]
  },
  {
   "cell_type": "markdown",
   "id": "17dfb084",
   "metadata": {},
   "source": [
    "Задание 21\n",
    "Определить товары, которые покупали более 1 раза"
   ]
  },
  {
   "cell_type": "code",
   "execution_count": null,
   "id": "54ad99b2",
   "metadata": {
    "vscode": {
     "languageId": "plaintext"
    }
   },
   "outputs": [],
   "source": [
    "SELECT good_name\n",
    "FROM Goods\n",
    "LEFT JOIN Payments\n",
    "    ON Goods.good_id = Payments.good\n",
    "GROUP BY good_name\n",
    "HAVING COUNT(good_name) > 1"
   ]
  },
  {
   "cell_type": "markdown",
   "id": "5f1a4b3f",
   "metadata": {},
   "source": [
    "Задание 22\n",
    "Найти имена всех матерей (mother)"
   ]
  },
  {
   "cell_type": "code",
   "execution_count": null,
   "id": "05b9e6ab",
   "metadata": {
    "vscode": {
     "languageId": "plaintext"
    }
   },
   "outputs": [],
   "source": [
    "SELECT member_name\n",
    "FROM FamilyMembers\n",
    "WHERE status = 'mother'"
   ]
  },
  {
   "cell_type": "markdown",
   "id": "a702ba40",
   "metadata": {},
   "source": [
    "Задание 23\n",
    "Найдите самый дорогой деликатес (delicacies) и выведите его цену"
   ]
  },
  {
   "cell_type": "code",
   "execution_count": null,
   "id": "f123442d",
   "metadata": {
    "vscode": {
     "languageId": "plaintext"
    }
   },
   "outputs": [],
   "source": [
    "SELECT good_name, unit_price\n",
    "FROM Payments\n",
    "JOIN Goods\n",
    "    ON Payments.good = Goods.good_id\n",
    "JOIN GoodTypes\n",
    "    ON Goods.type = GoodTypes.good_type_id\n",
    "WHERE good_type_name = 'delicacies' \n",
    "ORDER BY unit_price DESC \n",
    "LIMIT 1"
   ]
  },
  {
   "cell_type": "markdown",
   "id": "4e9e451d",
   "metadata": {},
   "source": [
    "Задание 24\n",
    "Определить кто и сколько потратил в июне 2005"
   ]
  },
  {
   "cell_type": "code",
   "execution_count": null,
   "id": "3d942feb",
   "metadata": {
    "vscode": {
     "languageId": "plaintext"
    }
   },
   "outputs": [],
   "source": [
    "SELECT member_name,\n",
    "    SUM(unit_price * amount) AS costs\n",
    "FROM FamilyMembers\n",
    "JOIN Payments\n",
    "    ON FamilyMembers.member_id = Payments.family_member\n",
    "WHERE date LIKE '2005%' AND MONTH(date) = 6\n",
    "GROUP BY family_member"
   ]
  },
  {
   "cell_type": "markdown",
   "id": "f4e70226",
   "metadata": {},
   "source": [
    "Задание 25\n",
    "Определить, какие товары не покупались в 2005 году"
   ]
  },
  {
   "cell_type": "code",
   "execution_count": null,
   "id": "227fab32",
   "metadata": {
    "vscode": {
     "languageId": "plaintext"
    }
   },
   "outputs": [],
   "source": [
    "SELECT good_name\n",
    "FROM Goods\n",
    "WHERE good_id NOT IN (\n",
    "\t\tSELECT good\n",
    "\t\tFROM Payments\n",
    "\t\tWHERE YEAR(date) = '2005');"
   ]
  },
  {
   "cell_type": "markdown",
   "id": "3e60450d",
   "metadata": {},
   "source": [
    "Задание 26\n",
    "Определить группы товаров, которые не приобретались в 2005 году"
   ]
  },
  {
   "cell_type": "code",
   "execution_count": null,
   "id": "0a7d05aa",
   "metadata": {
    "vscode": {
     "languageId": "plaintext"
    }
   },
   "outputs": [],
   "source": [
    "SELECT good_type_name\n",
    "FROM GoodTypes\n",
    "WHERE good_type_id NOT IN(\n",
    "\t\tSELECT TYPE\n",
    "\t\tFROM Goods AS g\n",
    "\t\t\tJOIN Payments AS p ON p.good = g.good_id\n",
    "\t\tWHERE YEAR(date) = '2005');"
   ]
  },
  {
   "cell_type": "markdown",
   "id": "8b631847",
   "metadata": {},
   "source": [
    "Задание 27\n",
    "Узнайте, сколько было потрачено на каждую из групп товаров в 2005 году. Выведите название группы и потраченную на неё сумму. Если потраченная сумма равна нулю, т.е. товары из этой группы не покупались в 2005 году, то не выводите её."
   ]
  },
  {
   "cell_type": "code",
   "execution_count": null,
   "id": "a5437f2c",
   "metadata": {
    "vscode": {
     "languageId": "plaintext"
    }
   },
   "outputs": [],
   "source": [
    "SELECT good_type_name, SUM(amount * unit_price) AS costs\n",
    "FROM GoodTypes AS gt\n",
    "    JOIN Goods AS g ON g.type = gt.good_type_id\n",
    "    JOIN Payments AS p ON p.good = g.good_id\n",
    "WHERE YEAR(date) = '2005'\n",
    "GROUP BY good_type_name;"
   ]
  },
  {
   "cell_type": "markdown",
   "id": "5d64a485",
   "metadata": {},
   "source": [
    "Задание 28\n",
    "Сколько рейсов совершили авиакомпании из Ростова (Rostov) в Москву (Moscow) ?"
   ]
  },
  {
   "cell_type": "code",
   "execution_count": null,
   "id": "14c31aaa",
   "metadata": {
    "vscode": {
     "languageId": "plaintext"
    }
   },
   "outputs": [],
   "source": [
    "SELECT COUNT(company) AS count\n",
    "FROM  Trip\n",
    "WHERE town_from = 'Rostov' AND town_to = 'Moscow'"
   ]
  },
  {
   "cell_type": "markdown",
   "id": "e89a978b",
   "metadata": {},
   "source": [
    "Задание 29\n",
    "Выведите имена пассажиров улетевших в Москву (Moscow) на самолете TU-134. В ответе не должно быть дубликатов."
   ]
  },
  {
   "cell_type": "code",
   "execution_count": null,
   "id": "e265ed6c",
   "metadata": {
    "vscode": {
     "languageId": "plaintext"
    }
   },
   "outputs": [],
   "source": [
    "SELECT DISTINCT name\n",
    "FROM Passenger\n",
    "JOIN Pass_in_trip\n",
    "    ON Passenger.id = Pass_in_trip.passenger\n",
    "JOIN Trip\n",
    "    ON Pass_in_trip.trip = Trip.id\n",
    "WHERE town_to = 'Moscow' AND plane = 'TU-134'\n"
   ]
  },
  {
   "cell_type": "markdown",
   "id": "76acfb6f",
   "metadata": {},
   "source": [
    "Задание 30\n",
    "Выведите нагруженность (число пассажиров) каждого рейса (trip). Результат вывести в отсортированном виде по убыванию нагруженности."
   ]
  },
  {
   "cell_type": "code",
   "execution_count": null,
   "id": "49f58725",
   "metadata": {
    "vscode": {
     "languageId": "plaintext"
    }
   },
   "outputs": [],
   "source": [
    "SELECT COUNT(passenger) AS count, trip\n",
    "FROM Pass_in_trip\n",
    "GROUP BY trip\n",
    "ORDER BY count DESC "
   ]
  },
  {
   "cell_type": "markdown",
   "id": "98deecb9",
   "metadata": {},
   "source": [
    "Задание 31\n",
    "Вывести всех членов семьи с фамилией Quincey."
   ]
  },
  {
   "cell_type": "code",
   "execution_count": null,
   "id": "85f240c4",
   "metadata": {
    "vscode": {
     "languageId": "plaintext"
    }
   },
   "outputs": [],
   "source": [
    "SELECT *\n",
    "FROM FamilyMembers\n",
    "WHERE member_name LIKE '%Quincey%'"
   ]
  },
  {
   "cell_type": "markdown",
   "id": "34c58f93",
   "metadata": {},
   "source": [
    "Задание 32\n",
    "Вывести средний возраст людей (в годах), хранящихся в базе данных. Результат округлите до целого в меньшую сторону."
   ]
  },
  {
   "cell_type": "code",
   "execution_count": null,
   "id": "e0396ba2",
   "metadata": {
    "vscode": {
     "languageId": "plaintext"
    }
   },
   "outputs": [],
   "source": [
    "SELECT TRUNCATE(AVG(TIMESTAMPDIFF(YEAR, birthday, NOW())), 0) AS age \n",
    "FROM FamilyMembers"
   ]
  },
  {
   "cell_type": "markdown",
   "id": "e2fbb66a",
   "metadata": {},
   "source": [
    "Задание 33\n",
    "Найдите среднюю цену икры на основе данных, хранящихся в таблице Payments. В базе данных хранятся данные о покупках красной (red caviar) и черной икры (black caviar). В ответе должна быть одна строка со средней ценой всей купленной когда-либо икры.\n"
   ]
  },
  {
   "cell_type": "code",
   "execution_count": null,
   "id": "3f2c5956",
   "metadata": {
    "vscode": {
     "languageId": "plaintext"
    }
   },
   "outputs": [],
   "source": [
    "SELECT AVG(unit_price) AS cost\n",
    "FROM Payments\n",
    "\tJOIN Goods ON Payments.good = Goods.good_id\n",
    "WHERE good_name IN('red caviar', 'black caviar')"
   ]
  },
  {
   "cell_type": "markdown",
   "id": "7504e5a3",
   "metadata": {},
   "source": [
    "Задание 34\n",
    "Сколько всего 10-ых классов"
   ]
  },
  {
   "cell_type": "code",
   "execution_count": null,
   "id": "c111b73d",
   "metadata": {
    "vscode": {
     "languageId": "plaintext"
    }
   },
   "outputs": [],
   "source": [
    "SELECT COUNT(name) AS count\n",
    "FROM Class\n",
    "WHERE name LIKE '10%'"
   ]
  },
  {
   "cell_type": "markdown",
   "id": "e27fcf57",
   "metadata": {},
   "source": [
    "Задание 35\n",
    "Сколько различных кабинетов школы использовались 2 сентября 2019 года для проведения занятий?"
   ]
  },
  {
   "cell_type": "code",
   "execution_count": null,
   "id": "2e6c5b10",
   "metadata": {
    "vscode": {
     "languageId": "plaintext"
    }
   },
   "outputs": [],
   "source": [
    "SELECT COUNT(DISTINCT classroom) AS count \n",
    "FROM Schedule\n",
    "WHERE date = '2019-09-02T00:00:00.000Z'"
   ]
  },
  {
   "cell_type": "markdown",
   "id": "5efc8f68",
   "metadata": {},
   "source": [
    "Задание 36\n",
    "Выведите информацию об обучающихся живущих на улице Пушкина (ul. Pushkina)?"
   ]
  },
  {
   "cell_type": "code",
   "execution_count": null,
   "id": "08f79eb7",
   "metadata": {
    "vscode": {
     "languageId": "plaintext"
    }
   },
   "outputs": [],
   "source": [
    "SELECT *\n",
    "FROM Student\n",
    "WHERE address LIKE '%ul. Pushkina%'"
   ]
  },
  {
   "cell_type": "markdown",
   "id": "62556df0",
   "metadata": {},
   "source": [
    "Задание 37\n",
    "Сколько лет самому молодому обучающемуся ?"
   ]
  },
  {
   "cell_type": "code",
   "execution_count": null,
   "id": "e777efb1",
   "metadata": {
    "vscode": {
     "languageId": "plaintext"
    }
   },
   "outputs": [],
   "source": [
    "SELECT TIMESTAMPDIFF(YEAR, birthday, NOW()) AS year\n",
    "FROM Student\n",
    "ORDER BY year\n",
    "LIMIT 1"
   ]
  },
  {
   "cell_type": "markdown",
   "id": "3274a0b7",
   "metadata": {},
   "source": [
    "Задание 38\n",
    "Сколько Анн (Anna) учится в школе ?"
   ]
  },
  {
   "cell_type": "code",
   "execution_count": null,
   "id": "14c346eb",
   "metadata": {
    "vscode": {
     "languageId": "plaintext"
    }
   },
   "outputs": [],
   "source": [
    "SELECT COUNT(first_name) AS count\n",
    "FROM Student\n",
    "WHERE first_name = 'Anna'"
   ]
  },
  {
   "cell_type": "markdown",
   "id": "f83d34d8",
   "metadata": {},
   "source": [
    "Задание 39\n",
    "Сколько обучающихся в 10 B классе ?"
   ]
  },
  {
   "cell_type": "code",
   "execution_count": null,
   "id": "6b96a8c3",
   "metadata": {
    "vscode": {
     "languageId": "plaintext"
    }
   },
   "outputs": [],
   "source": [
    "SELECT COUNT(student) AS count\n",
    "FROM Student_in_class\n",
    "INNER JOIN Class\n",
    "    ON Student_in_class.class = Class.id\n",
    "WHERE name = '10 B'\n"
   ]
  },
  {
   "cell_type": "markdown",
   "id": "01288625",
   "metadata": {},
   "source": [
    "Задание 40\n",
    "Выведите название предметов, которые преподает Ромашкин П.П. (Romashkin P.P.). Обратите внимание, что в базе данных есть несколько учителей с такой фамилией."
   ]
  },
  {
   "cell_type": "code",
   "execution_count": null,
   "id": "7a8801cf",
   "metadata": {
    "vscode": {
     "languageId": "plaintext"
    }
   },
   "outputs": [],
   "source": [
    "SELECT name AS subjects\n",
    "FROM Schedule Sc \n",
    "JOIN Subject S \n",
    "    ON Sc.subject = S.id\n",
    "JOIN Teacher T \n",
    "    ON Sc.teacher = T.id\n",
    "WHERE last_name = 'Romashkin' AND first_name LIKE 'P%' AND middle_name LIKE 'P%'"
   ]
  },
  {
   "cell_type": "markdown",
   "id": "0e9e18e5",
   "metadata": {},
   "source": [
    "Задание 41\n",
    "Выясните, во сколько по расписанию начинается четвёртое занятие."
   ]
  },
  {
   "cell_type": "code",
   "execution_count": null,
   "id": "360db6c9",
   "metadata": {
    "vscode": {
     "languageId": "plaintext"
    }
   },
   "outputs": [],
   "source": [
    "SELECT DISTINCT start_pair\n",
    "FROM Timepair\n",
    "INNER JOIN Schedule\n",
    "    ON Timepair.ID = Schedule.number_pair\n",
    "WHERE number_pair = '4'"
   ]
  },
  {
   "cell_type": "markdown",
   "id": "738259bd",
   "metadata": {},
   "source": [
    "Задание 42\n",
    "Сколько времени обучающийся будет находиться в школе, учась со 2-го по 4-ый уч. предмет?"
   ]
  },
  {
   "cell_type": "code",
   "execution_count": null,
   "id": "52b48c50",
   "metadata": {
    "vscode": {
     "languageId": "plaintext"
    }
   },
   "outputs": [],
   "source": [
    "SELECT DISTINCT TIMEDIFF(\n",
    "    (SELECT end_pair \n",
    "    FROM Timepair \n",
    "    WHERE id = 4),\n",
    "    (SELECT start_pair \n",
    "    FROM Timepair \n",
    "    WHERE id = 2)) AS time\n",
    "FROM Timepair"
   ]
  },
  {
   "cell_type": "markdown",
   "id": "1b7543fb",
   "metadata": {},
   "source": [
    "Задание 43\n",
    "Выведите фамилии преподавателей, которые ведут физическую культуру (Physical Culture). Отсортируйте преподавателей по фамилии в алфавитном порядке."
   ]
  },
  {
   "cell_type": "code",
   "execution_count": null,
   "id": "815b90fd",
   "metadata": {
    "vscode": {
     "languageId": "plaintext"
    }
   },
   "outputs": [],
   "source": [
    "SELECT last_name\n",
    "FROM Teacher\n",
    "JOIN Schedule \n",
    "    ON Teacher.id = Schedule.teacher\n",
    "JOIN Subject\n",
    "    ON Schedule.subject = Subject.id\n",
    "WHERE Subject.name = 'Physical Culture'\n",
    "ORDER BY last_name"
   ]
  },
  {
   "cell_type": "markdown",
   "id": "9af4b849",
   "metadata": {},
   "source": [
    "Задание 44\n",
    "Найдите максимальный возраст (количество лет) среди обучающихся 10 классов на сегодняшний день. Для получения текущих даты и времени используйте функцию NOW()."
   ]
  },
  {
   "cell_type": "code",
   "execution_count": null,
   "id": "a5a1d31e",
   "metadata": {
    "vscode": {
     "languageId": "plaintext"
    }
   },
   "outputs": [],
   "source": [
    "SELECT MAX(TIMESTAMPDIFF(YEAR, birthday, NOW())) AS max_year\n",
    "FROM Student AS st\n",
    "\tJOIN Student_in_class sc ON sc.student = st.id\n",
    "\tJOIN Class cl ON cl.id = sc.class\n",
    "WHERE name LIKE '10 %';"
   ]
  },
  {
   "cell_type": "markdown",
   "id": "eb8df0db",
   "metadata": {},
   "source": [
    "Задание 45\n",
    "Какие кабинеты чаще всего использовались для проведения занятий? Выведите те, которые использовались максимальное количество раз."
   ]
  },
  {
   "cell_type": "code",
   "execution_count": null,
   "id": "f0b7daf7",
   "metadata": {
    "vscode": {
     "languageId": "plaintext"
    }
   },
   "outputs": [],
   "source": [
    "SELECT classroom\n",
    "FROM Schedule\n",
    "GROUP BY classroom\n",
    "HAVING COUNT(classroom) = ( \n",
    "    SELECT COUNT(classroom) AS COUNT\n",
    "\tFROM Schedule\n",
    "\tGROUP BY classroom\n",
    "\tORDER BY COUNT DESC LIMIT 1)"
   ]
  },
  {
   "cell_type": "markdown",
   "id": "a1362edb",
   "metadata": {},
   "source": [
    "Задание 46\n",
    "В каких классах введет занятия преподаватель \"Krauze\" ?"
   ]
  },
  {
   "cell_type": "code",
   "execution_count": null,
   "id": "b97deed4",
   "metadata": {
    "vscode": {
     "languageId": "plaintext"
    }
   },
   "outputs": [],
   "source": [
    "SELECT name\n",
    "FROM Class\n",
    "JOIN Schedule\n",
    "    ON Class.id = Schedule.class\n",
    "JOIN Teacher\n",
    "    ON Schedule.teacher = Teacher.id\n",
    "WHERE last_name = 'Krauze'\n",
    "GROUP BY  name"
   ]
  },
  {
   "cell_type": "markdown",
   "id": "4e8de890",
   "metadata": {},
   "source": []
  },
  {
   "cell_type": "markdown",
   "id": "31bed2ae",
   "metadata": {},
   "source": []
  },
  {
   "cell_type": "markdown",
   "id": "7d40f5dd",
   "metadata": {},
   "source": []
  },
  {
   "cell_type": "markdown",
   "id": "92631264",
   "metadata": {},
   "source": []
  },
  {
   "cell_type": "markdown",
   "id": "a359a269",
   "metadata": {},
   "source": []
  },
  {
   "cell_type": "markdown",
   "id": "4d0aa0a7",
   "metadata": {},
   "source": []
  }
 ],
 "metadata": {
  "language_info": {
   "name": "python"
  }
 },
 "nbformat": 4,
 "nbformat_minor": 5
}
