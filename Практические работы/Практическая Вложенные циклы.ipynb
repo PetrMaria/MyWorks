{
  "nbformat": 4,
  "nbformat_minor": 0,
  "metadata": {
    "colab": {
      "provenance": []
    },
    "kernelspec": {
      "name": "python3",
      "display_name": "Python 3"
    },
    "language_info": {
      "name": "python"
    }
  },
  "cells": [
    {
      "cell_type": "markdown",
      "source": [
        "Что нужно сделать\n",
        "В прошлый раз учитель написал программу, которая выводит числа в формате плавающей точки, однако он вспомнил, что не учёл одну важную вещь: числа-то могут идти от нуля.\n",
        "\n",
        "Задано положительное число x (x > 0). Ваша задача — преобразовать его в формат плавающей точки, то есть x = a * 10^b, где 1 ≤ a < 10. Обратите внимание, что x теперь больше нуля, а не больше единицы. Обеспечьте контроль ввода."
      ],
      "metadata": {
        "id": "yYMjSc24uCnF"
      }
    },
    {
      "cell_type": "code",
      "source": [
        "def float_point(number):\n",
        "  count = 0\n",
        "  if number >= 1:\n",
        "    while number >= 10:\n",
        "      number /= 10\n",
        "      count += 1\n",
        "  elif 0 < number < 1:\n",
        "    while number < 1:\n",
        "      number *= 10\n",
        "      count -= 1\n",
        "  print('Формат плавающей точки: x =', number, '* 10 **', count)\n",
        "\n",
        "number = float(input('Введите число: '))\n",
        "count = 0\n",
        "if number <= 0:\n",
        "  print('Ошибка ввода. Число должно быть больше нуля')\n",
        "else:\n",
        "  float_point(number)"
      ],
      "metadata": {
        "colab": {
          "base_uri": "https://localhost:8080/"
        },
        "id": "Feg7K8GcuJBg",
        "outputId": "55fe478d-7194-4c45-87ed-9efa13d1b441"
      },
      "execution_count": null,
      "outputs": [
        {
          "output_type": "stream",
          "name": "stdout",
          "text": [
            "Введите число: 56789\n",
            "Формат плавающей точки: x = 5.6789000000000005 * 10 ** 4\n"
          ]
        }
      ]
    },
    {
      "cell_type": "markdown",
      "source": [
        "Задача 2. Функция максимума\n",
        "Что нужно сделать\n",
        "Юра пишет различные полезные функции для Python, чтобы остальным программистам стало проще работать. Он захотел написать функцию, которая будет находить максимум из перечисленных чисел. Функция для нахождения максимума из двух чисел у него уже есть. Юра задумался: может быть, её можно как-то использовать для нахождения максимума уже от трёх чисел?\n",
        "\n",
        "Помогите Юре написать программу, которая находит максимум из трёх чисел. Для этого используйте только функцию нахождения максимума из двух чисел."
      ],
      "metadata": {
        "id": "250B-TAhuqTx"
      }
    },
    {
      "cell_type": "code",
      "source": [
        "def maximum_of_two(a, b):\n",
        "  if a > b:\n",
        "    return a\n",
        "  else:\n",
        "    return b\n",
        "\n",
        "def maximum_of_three(a, b, c):\n",
        "  return maximum_of_two(maximum_of_two(a, b), c)\n",
        "\n",
        "a = int(input('Введите первое число: '))\n",
        "b = int(input('Введите второе число: '))\n",
        "c = int(input('Введите третье число: '))\n",
        "\n",
        "print('\\nМаксимальное число: ', maximum_of_three(a, b, c))"
      ],
      "metadata": {
        "colab": {
          "base_uri": "https://localhost:8080/"
        },
        "id": "nZ2ej-gKuJrw",
        "outputId": "d7f8dd32-17e8-434d-ba75-ac7efcc6151e"
      },
      "execution_count": null,
      "outputs": [
        {
          "output_type": "stream",
          "name": "stdout",
          "text": [
            "Введите первое число: 1234\n",
            "Введите второе число: 567890\n",
            "Введите третье число: 4567\n",
            "\n",
            "Максимальное число:  567890\n"
          ]
        }
      ]
    },
    {
      "cell_type": "markdown",
      "source": [
        "Задача 3. Число наоборот 2\n",
        "Что нужно сделать\n",
        "Пользователь вводит два числа: N и K. Напишите программу, которая заменяет каждое число на число, которое получается из исходного записью его цифр в обратном порядке, затем складывает их, снова переворачивает и выводит ответ на экран."
      ],
      "metadata": {
        "id": "FgOzsIklGcFb"
      }
    },
    {
      "cell_type": "code",
      "source": [
        "def revers_n(n):\n",
        "  n_revers = 0\n",
        "  while n > 0:\n",
        "    digit = n % 10\n",
        "    n = n // 10\n",
        "    n_revers = n_revers * 10\n",
        "    n_revers = n_revers + digit\n",
        "  return n_revers\n",
        "\n",
        "def revers_k(k):\n",
        "  k_revers = 0\n",
        "  while k > 0:\n",
        "    digit = k % 10\n",
        "    k = k // 10\n",
        "    k_revers = k_revers * 10\n",
        "    k_revers = k_revers + digit\n",
        "  return k_revers\n",
        "\n",
        "def summ():\n",
        "  sum = revers_n(n) + revers_k(k)\n",
        "  return sum\n",
        "\n",
        "def revers_summ():\n",
        "  sum = revers_n(n) + revers_k(k)\n",
        "  sum_revers = 0\n",
        "  while sum > 0:\n",
        "    digit = sum % 10\n",
        "    sum = sum // 10\n",
        "    sum_revers = sum_revers * 10\n",
        "    sum_revers = sum_revers + digit\n",
        "  return sum_revers\n",
        "\n",
        "\n",
        "n = int(input('Введите первое число: '))\n",
        "k = int(input('Введите второе число: '))\n",
        "\n",
        "print('\\nПервое число наоборот: ', revers_n(n))\n",
        "print('Второе число наоборот: ', revers_k(k))\n",
        "print('Сумма: ', summ())\n",
        "print('\\nСумма наоборот: ', revers_summ())"
      ],
      "metadata": {
        "colab": {
          "base_uri": "https://localhost:8080/"
        },
        "id": "KmVm4cXrwflC",
        "outputId": "ae6f2764-66ff-4e53-cad9-5a40196a5e0b"
      },
      "execution_count": null,
      "outputs": [
        {
          "output_type": "stream",
          "name": "stdout",
          "text": [
            "Введите первое число: 123\n",
            "Введите второе число: 456\n",
            "\n",
            "Первое число наоборот:  321\n",
            "Второе число наоборот:  654\n",
            "Сумма:  975\n",
            "\n",
            "Сумма наоборот:  579\n"
          ]
        }
      ]
    },
    {
      "cell_type": "markdown",
      "source": [
        "Задача 4. Недоделка 2\n",
        "Что нужно сделать\n",
        "Вы всё так же работаете в конторе по разработке игр и смотрите различные программы прошлого горе-программиста. В одной из игр для детей, связанной с мультяшной работой с числами, вам нужно было написать код согласно следующим условиям: программа получает на вход два числа; в первом числе должно быть не менее трёх цифр, во втором — не менее четырёх, иначе программа выдаёт ошибку. Если всё нормально, то в каждом числе первая и последняя цифры меняются местами, а затем выводится их сумма.\n",
        "\n",
        "И тут вы натыкаетесь на программу, которая была написана предыдущим программистом и которая как раз решает такую задачу. Однако старший программист попросил вас немного переписать этот код, чтобы он не выглядел так ужасно. Да и вам самим становится, мягко говоря, не по себе от него."
      ],
      "metadata": {
        "id": "MoIjtrHqIt4m"
      }
    },
    {
      "cell_type": "code",
      "source": [
        "def count_numbers(n):\n",
        "  res = 0\n",
        "  while n > 0:\n",
        "      res += 1\n",
        "      n //= 10\n",
        "  return res\n",
        "\n",
        "def change_number(n, num_count):\n",
        "  last_digit = n % 10\n",
        "  first_digit = n // 10 ** (num_count - 1)\n",
        "  between_digits = n % 10 ** (num_count - 1) // 10\n",
        "  return last_digit * 10 ** (num_count - 1) + between_digits * 10 + first_digit\n",
        "\n",
        "def main():\n",
        "  first_n = int(input(\"Введите первое число: \"))\n",
        "  first_num_count = count_numbers(first_n)\n",
        "  if first_num_count < 3:\n",
        "      print(\"В первом числе меньше трёх цифр.\")\n",
        "  else:\n",
        "      first_n = change_number(first_n, first_num_count)\n",
        "      print('Изменённое первое число:', first_n)\n",
        "      second_n = int(input(\"\\nВведите второе число: \"))\n",
        "      second_num_count = count_numbers(second_n)\n",
        "      if second_num_count < 4:\n",
        "          print(\"Во втором числе меньше четырёх цифр.\")\n",
        "      else:\n",
        "          second_n = change_number(second_n, second_num_count)\n",
        "          print('Изменённое второе число:', second_n)\n",
        "          print('\\nСумма чисел:', first_n + second_n)\n",
        "\n",
        "main()"
      ],
      "metadata": {
        "colab": {
          "base_uri": "https://localhost:8080/"
        },
        "id": "kGDccnc8Geg0",
        "outputId": "90f76222-b7e0-4fa8-d5ea-35e2d3aefacf"
      },
      "execution_count": null,
      "outputs": [
        {
          "output_type": "stream",
          "name": "stdout",
          "text": [
            "Введите первое число: 123\n",
            "Изменённое первое число: 321\n",
            "\n",
            "Введите второе число: 3030\n",
            "Изменённое второе число: 33\n",
            "\n",
            "Сумма чисел: 354\n"
          ]
        }
      ]
    },
    {
      "cell_type": "markdown",
      "source": [
        "Задача 5. Маятник\n",
        "Что нужно сделать\n",
        "Известно, что амплитуда качающегося маятника с каждым разом затухает на 8,4% от амплитуды предыдущего колебания. Если качнуть маятник, то, строго говоря, он не остановится никогда, просто амплитуда будет постоянно уменьшаться до тех пор, пока мы не сочтём такой маятник остановившимся. Напишите программу, определяющую, сколько раз качнётся маятник, прежде чем он, по нашему мнению, остановится.\n",
        "\n",
        "Программа получает на вход начальную амплитуду колебания в сантиметрах и конечную амплитуду колебаний, которая считается остановкой маятника. Обеспечьте контроль ввода."
      ],
      "metadata": {
        "id": "nw47sJB0OIA1"
      }
    },
    {
      "cell_type": "code",
      "source": [
        "def count(ampl):\n",
        "  count = 0\n",
        "  while ampl > stop_ampl:\n",
        "    ampl *= 1 - (8.4 / 100)\n",
        "    count += 1\n",
        "  print('\\nМаятник считается остановившимся через' , count, 'колебаний')\n",
        "\n",
        "\n",
        "ampl = float(input('Введите начальную амплитуду: '))\n",
        "stop_ampl = float(input('Введите амплитуду остановки: '))\n",
        "\n",
        "count(ampl)\n"
      ],
      "metadata": {
        "colab": {
          "base_uri": "https://localhost:8080/"
        },
        "id": "MdqzMppuIw1q",
        "outputId": "f1f58dcf-e9ab-4239-fa67-951d94f11248"
      },
      "execution_count": null,
      "outputs": [
        {
          "output_type": "stream",
          "name": "stdout",
          "text": [
            "Введите начальную амплитуду: 4\n",
            "Введите амплитуду остановки: 0.2\n",
            "\n",
            "Маятник считается остановившимся через 35 колебаний\n"
          ]
        }
      ]
    },
    {
      "cell_type": "markdown",
      "source": [
        "Задача 6. Яйца\n",
        "Что нужно сделать\n",
        "В рамках программы колонизации Марса компания «Спейс Инжиниринг» вывела особую породу черепах, которые, по задумке, должны размножаться, откладывая яйца в марсианском грунте. Откладывать яйца слишком близко к поверхности опасно из-за радиации, а слишком глубоко — из-за давления грунта и недостатка кислорода. Вообще, факторов очень много, но специалисты проделали большую работу и предположили, что уровень опасности для черепашьих яиц рассчитывается по формуле: D = x^3 − 3x^2 − 12x + 10, где x — глубина кладки в метрах, а D — уровень опасности в условных единицах. Для тестирования гипотезы нужно взять пробу грунта на безопасной, согласно формуле, глубине."
      ],
      "metadata": {
        "id": "6h0YmHc3RXUT"
      }
    },
    {
      "cell_type": "code",
      "source": [
        "def danger(d_min, d_max):\n",
        "  d_middle = (d_min + d_max) / 2\n",
        "  middle_danger = d_middle ** 3 - 3 * d_middle ** 2 - 12 * d_middle + 10\n",
        "  return d_middle, middle_danger\n",
        "\n",
        "def depth_calc(user_danger_level):\n",
        "  lower_bound = 0\n",
        "  upper_bound = 4\n",
        "  while True:\n",
        "    mid, danger_level = danger(lower_bound, upper_bound)\n",
        "    if danger_level > 0:\n",
        "      lower_bound = mid\n",
        "    else:\n",
        "      upper_bound = mid\n",
        "    if abs(danger_level) < user_danger_level:\n",
        "      return mid\n",
        "\n",
        "max_danger = float(input('Введите максимально допустимый уровень опасности: '))\n",
        "\n",
        "result = depth_calc(max_danger)\n",
        "\n",
        "print('\\nПриблизительная глубина безопасной кладки: ', result)"
      ],
      "metadata": {
        "colab": {
          "base_uri": "https://localhost:8080/"
        },
        "id": "RUaGvibHRN30",
        "outputId": "e67ce967-6230-456b-b481-0341acf4bc95"
      },
      "execution_count": null,
      "outputs": [
        {
          "output_type": "stream",
          "name": "stdout",
          "text": [
            "Введите максимально допустимый уровень опасности: 0.02\n",
            "\n",
            "Приблизительная глубина безопасной кладки:  0.732421875\n"
          ]
        }
      ]
    },
    {
      "cell_type": "code",
      "source": [],
      "metadata": {
        "id": "5L_t0-ugygip"
      },
      "execution_count": null,
      "outputs": []
    }
  ]
}